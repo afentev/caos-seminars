{
 "cells": [
  {
   "cell_type": "markdown",
   "id": "2353ec97",
   "metadata": {},
   "source": [
    "# Семинар 2 - Представление данных"
   ]
  },
  {
   "cell_type": "markdown",
   "id": "a0308450",
   "metadata": {},
   "source": [
    "Сегодня в меню:\n",
    "* Выравнивания\n",
    "* Aliasing\n",
    "* Целочисленные типы данных\n",
    "* Типы данных с плавающей точкой\n",
    "* Кодировки"
   ]
  },
  {
   "cell_type": "markdown",
   "id": "39d8175a",
   "metadata": {},
   "source": [
    "## Общее введение"
   ]
  },
  {
   "cell_type": "markdown",
   "id": "51a61ac8",
   "metadata": {},
   "source": [
    "### Выравнивания"
   ]
  },
  {
   "cell_type": "markdown",
   "id": "db0fa0ad",
   "metadata": {},
   "source": [
    "Минимально адресуемой единицей является байт. Сколько бит в байте? Ответ содержится в константе `CHAR_BIT` из `limits.h`. По стандарту гарантируется, что хотя бы 8. Однобайтовый тип данных называется `char` (то есть `sizeof(char) == 1`)."
   ]
  },
  {
   "cell_type": "markdown",
   "id": "62005611",
   "metadata": {},
   "source": [
    "Значит ли это, что под `char` всегда будет выделяться ровно 1 байт? Не совсем"
   ]
  },
  {
   "cell_type": "markdown",
   "id": "5005f4fb",
   "metadata": {},
   "source": [
    "<img src=\"bool_is_1_bit.jpg\" alt=\"bool is only one bit\" width=\"500\"/>"
   ]
  },
  {
   "cell_type": "markdown",
   "id": "ac0a87bb",
   "metadata": {},
   "source": [
    "Современные архитектуры компьютеров устроены таким образом, что обращения к данным происходят наиболее быстрым образом, когда данные *натурально выравнены*. Это значит, что их адрес в памяти кратен их выравниваю. Выравнивание, в свою очередь, определяется так:\n",
    "* `alignof(T) == sizeof(T)` для примитивных типов (`int`, `float`, `char`, `T*` и т. д.)\n",
    "* Если `T` - структура, то `alignof(T)` равен максимальному `alignof` среди её полей"
   ]
  },
  {
   "cell_type": "markdown",
   "id": "afcda17d",
   "metadata": {},
   "source": [
    "<img src=\"alignment_perf.jpg\" alt=\"alignment perf\" width=\"500\"/> <img src=\"4alignment_perf.jpg\" alt=\"alignment perf\" width=\"496\"/>\n",
    "\n",
    "\n",
    "Время доступа к 1-, 2- и 4-байтовым объектам в зависимости от выравнивания.\n",
    "\n",
    "Почему доступ к 4-байтовым объектам быстрее? Из-за того, что измерения проводились на комьпьютере с 4-байтовым [словом](https://en.wikipedia.org/wiki/Word_(computer_architecture))"
   ]
  },
  {
   "cell_type": "markdown",
   "id": "6375435d",
   "metadata": {
    "vscode": {
     "languageId": "plaintext"
    }
   },
   "source": [
    "По умолчанию компиляторы C располагают все объекты натурально выровненными, в том числе все поля структур. Чтобы этого добиться, между полями структуры лежат \"padding bytes\" - байты, которые не хранят в себе информации и служат лишь для соблюдения выравниваний полей:"
   ]
  },
  {
   "cell_type": "code",
   "execution_count": 48,
   "id": "e1a31772",
   "metadata": {},
   "outputs": [
    {
     "name": "stdout",
     "output_type": "stream",
     "text": [
      "     1\t#include <stddef.h>\n",
      "     2\t#include <stdio.h>\n",
      "     3\t#include <stdlib.h>\n",
      "     4\t\n",
      "     5\tint main(void) {\n",
      "     6\t    struct s {\n",
      "     7\t        int i;    // 4 bytes\n",
      "     8\t        char c;   // 1 byte\n",
      "     9\t        double d; // 8 bytes\n",
      "    10\t        char a;   // 1 byte\n",
      "    11\t    };\n",
      "    12\t\n",
      "    13\t    /* Output is compiler dependent */\n",
      "    14\t\n",
      "    15\t    printf(\"offsets: i=%ld; c=%ld; d=%ld a=%ld\\n\",\n",
      "    16\t        (long) offsetof(struct s, i),\n",
      "    17\t        (long) offsetof(struct s, c),\n",
      "    18\t        (long) offsetof(struct s, d),\n",
      "    19\t        (long) offsetof(struct s, a));\n",
      "    20\t    printf(\"sizeof(struct s)=%ld\\n\", (long) sizeof(struct s));\n",
      "    21\t}"
     ]
    }
   ],
   "source": [
    "!cat -n padding.c\n",
    "!gcc padding.c -o padding.out"
   ]
  },
  {
   "cell_type": "code",
   "execution_count": 4,
   "id": "ce1ca6a3",
   "metadata": {},
   "outputs": [
    {
     "name": "stdout",
     "output_type": "stream",
     "text": [
      "offsets: i=0; c=4; d=8 a=16\n",
      "sizeof(struct s)=24\n"
     ]
    }
   ],
   "source": [
    "!./padding.out "
   ]
  },
  {
   "cell_type": "markdown",
   "id": "9a2b5ae8",
   "metadata": {},
   "source": [
    "То есть в памяти структура `s` располагается таким образом:"
   ]
  },
  {
   "cell_type": "raw",
   "id": "a75fbdb5",
   "metadata": {
    "vscode": {
     "languageId": "raw"
    }
   },
   "source": [
    "#####---#########------\n",
    "|   ||  |       ||\n",
    "int ||  |       || padding (7 bytes)\n",
    "    ||  |       char (1 byte) \n",
    "    ||  |\n",
    "    ||  double (8 bytes)\n",
    "    |padding (3 bytes)\n",
    "    char (1 byte)"
   ]
  },
  {
   "cell_type": "markdown",
   "id": "428b7278",
   "metadata": {},
   "source": [
    "```c\n",
    "struct s {\n",
    "    int i;    // 4 bytes\n",
    "    char c;   // 1 byte\n",
    "              // 3 byte padding, so &d % 8 == 0\n",
    "    double d; // 8 bytes\n",
    "    char a;   // 1 byte\n",
    "              // 7 byte padding for the whole structure\n",
    "};\n",
    "```"
   ]
  },
  {
   "cell_type": "markdown",
   "id": "31ebcb56",
   "metadata": {},
   "source": [
    "> В конце структуры тоже бывает паддинг, чтобы `sizeof(T)` был кратен `alignof(T)`. Зачем?\n",
    "<details>\n",
    "  <summary>Ответ</summary>\n",
    "  Чтобы при хранении структур в массиве (T[]) все объекты были выровнены и лежали в памяти непрерывно. \n",
    "</details>"
   ]
  },
  {
   "cell_type": "markdown",
   "id": "5fe134fb",
   "metadata": {},
   "source": [
    "Если менять порядок полей внутри структуры, можно влиять на количество паддинга и менять `sizeof` всей структуры. С гарантирует, что поля будут лежать в памяти в том же порядке, в котором вы их перечислили, то есть без переставлений. Rust, для сравнения, по умолчанию будет искать оптимальный порядок полей, чтобы минимизировать `sizeof` структуры с сохранением выравниваний полей."
   ]
  },
  {
   "cell_type": "markdown",
   "id": "6a1b726a",
   "metadata": {},
   "source": [
    "Можно [дать указание](https://www.ibm.com/docs/en/zos/2.4.0?topic=descriptions-pragma-pack) компилятору не добавлять padding bytes и упаковать все поля друг за другом. Использовать такие хаки надо с очень большой осторожностью."
   ]
  },
  {
   "cell_type": "markdown",
   "id": "e9d57899",
   "metadata": {},
   "source": [
    "> Вопрос: гарантируется ли выраванивание при динамической аллокации памяти через `malloc`/`new`? Если да, как это достигается?\n",
    "<details>\n",
    "  <summary>Ответ</summary>\n",
    "  \n",
    "  Да, гарантируется. Динамически аллоцированная память выровнена на `alignof(maxalign_t)`, то есть имеет максимальное выравнивание, которое подойдет всем объектам. Также есть `void *aligned_alloc(size_t alignment, size_t size);`\n",
    "  \n",
    "</details>"
   ]
  },
  {
   "cell_type": "markdown",
   "id": "071127bd",
   "metadata": {},
   "source": [
    "#### Больше о выравнивании:\n",
    "* [The lost Art of Structure Packing](http://www.catb.org/esr/structure-packing/)\n",
    "* [Data alignment: Straighten up and fly right](https://developer.ibm.com/articles/pa-dalign/)"
   ]
  },
  {
   "cell_type": "markdown",
   "id": "bef4136f",
   "metadata": {},
   "source": [
    "### Aliasing "
   ]
  },
  {
   "cell_type": "markdown",
   "id": "3cc63ebe",
   "metadata": {},
   "source": [
    "Иногда возникает необходимость интепретировать какой-то объект типа `T` как объект типа `U`. Такое действие называется type punning. К примеру, далее мы будем смотреть, как в памяти размещены объекты типа `float`, для этого нужно будет интепретировать их как `char[]`, чтобы посмотреть на составляющие байты. "
   ]
  },
  {
   "cell_type": "markdown",
   "id": "3840791a",
   "metadata": {},
   "source": [
    "Если `T` и `U` достаточно \"разные\", то такая интерпретация почти всегда будет являться undefined behaviour. Это вызвано нарушением strict aliasing rules."
   ]
  },
  {
   "cell_type": "markdown",
   "id": "1f93d755",
   "metadata": {},
   "source": [
    "Как делать type punning, чтобы это не вызывало ub?\n",
    "* Кастовать к `char*` можно всегда (*)\n",
    "* Использовать `memcpy`\n",
    "* Использовать `union` (только в C)\n",
    "* Использовать `std::bit_cast<>` (только в C++)\n",
    "\n",
    "Избегайте type punning через указатели."
   ]
  },
  {
   "cell_type": "code",
   "execution_count": 5,
   "id": "14c46374",
   "metadata": {},
   "outputs": [
    {
     "name": "stdout",
     "output_type": "stream",
     "text": [
      "     1\tuint32_t test1(uint32_t arg) {\n",
      "     2\t    union {\n",
      "     3\t        uint32_t arg;\n",
      "     4\t        uint16_t arg2[2];\n",
      "     5\t    }c = {.arg = arg};\n",
      "     6\t\n",
      "     7\t    c.arg2[0] = 0x1;\n",
      "     8\t    c.arg2[1] = 0x1;\n",
      "     9\t    return (c.arg);\n",
      "    10\t}\n",
      "    11\t\n",
      "    12\tuint32_t test2(uint32_t arg) {\n",
      "    13\t    unsigned char *ptr = &arg;\n",
      "    14\t    memcpy(ptr, (uint16_t[]){1}, sizeof(uint16_t));\n",
      "    15\t    memcpy(ptr + 2, (uint16_t[]){1}, sizeof(uint16_t));\n",
      "    16\t    return arg;\n",
      "    17\t}\n",
      "    18\t\n",
      "    19\tuint32_t test3(uint32_t arg) {\n",
      "    20\t    uint16_t* const sp = (uint16_t*)&arg;  // dereferencing type-punned pointer will break strict-aliasing rules (ub)\n",
      "    21\t    uint16_t*       hi = &sp[0];\n",
      "    22\t    uint16_t*       lo = &sp[1];\n",
      "    23\t\n",
      "    24\t    *hi = 0x1;\n",
      "    25\t    *lo = 0x1;\n",
      "    26\t\n",
      "    27\t    return arg;\n",
      "    28\t} \n"
     ]
    }
   ],
   "source": [
    "!cat -n type_punning.c "
   ]
  },
  {
   "cell_type": "markdown",
   "id": "fb242193",
   "metadata": {},
   "source": [
    "#### Подробнее об aliasing rules:\n",
    "* [Understanding Strict Aliasing](https://cellperformance.beyond3d.com/articles/2006/06/understanding-strict-aliasing.html) - с vpn\n",
    "* [Demystifying The Restrict Keyword](https://cellperformance.beyond3d.com/articles/2006/05/demystifying-the-restrict-keyword.html) - с vpn\n",
    "* [What is the Strict Aliasing Rule and Why do we care?](https://gist.github.com/shafik/848ae25ee209f698763cffee272a58f8)"
   ]
  },
  {
   "cell_type": "markdown",
   "id": "92fcfd67",
   "metadata": {},
   "source": [
    "## Целые числа"
   ]
  },
  {
   "cell_type": "markdown",
   "id": "c61280c5",
   "metadata": {},
   "source": [
    "Какие есть целочисленные типы в C?\n",
    "\n",
    "<img src=\"arithmetic_types.png\" alt=\"arithmetic types\" width=\"500\"/> <img src=\"fixed_types.png\" alt=\"arithmetic types\" width=\"528\"/>"
   ]
  },
  {
   "cell_type": "markdown",
   "id": "f6378c76",
   "metadata": {},
   "source": [
    "Аргументы в пользу типов фиксированного размера в принципе понятны. Аргументы против [тоже есть](https://clownacy.wordpress.com/2023/07/07/stop-using-fixed-width-integer-types/)"
   ]
  },
  {
   "cell_type": "markdown",
   "id": "0469cbea",
   "metadata": {},
   "source": [
    "Производя `+`, `-`, `*` со стандартными целочисленными типами в программе мы работаем $\\mathbb{Z}_{2^k}$, где $k$ - количество бит в числе. Причем это верно как со знаковыми, так и беззнаковыми числами."
   ]
  },
  {
   "cell_type": "markdown",
   "id": "c0fbb19e",
   "metadata": {},
   "source": [
    "В процессоре для сложения знаковых и беззнаковых чисел выполняется одна и та же инструкция.\n",
    "\n",
    "Но есть некоторые тонкости.\n"
   ]
  },
  {
   "cell_type": "markdown",
   "id": "5a75a815",
   "metadata": {},
   "source": [
    "\n",
    "Если вы пишете код на C/C++ то компилятор считает переполнение **знакового** типа UB. Это позволяет ему проводить оптимизации.\n",
    "\n",
    "А переполнение беззнакового типа - законной операцией, при которой просто отбрасываются старшие биты (или значение берется по модулю $2^k$, или просто операция производится в $\\mathbb{Z}_{2^k}$ - можете выбирать более удобный для вас способ на это смотреть)."
   ]
  },
  {
   "cell_type": "code",
   "execution_count": 9,
   "id": "131d7c31",
   "metadata": {},
   "outputs": [
    {
     "name": "stdout",
     "output_type": "stream",
     "text": [
      "     1\tint check_increment(int x) {\n",
      "     2\t    return x + 1 > x; // Всегда ли true?\n",
      "     3\t}\n",
      "     4\t\n",
      "     5\tint unsigned_check_increment(unsigned int x) {\n",
      "     6\t    return x + 1 > x; // Всегда ли true?\n",
      "     7\t}\n",
      "     8\t\n"
     ]
    }
   ],
   "source": [
    "!cat -n increment.c | awk 'NR < 9'"
   ]
  },
  {
   "cell_type": "code",
   "execution_count": 17,
   "id": "a73a7f4d",
   "metadata": {},
   "outputs": [
    {
     "name": "stdout",
     "output_type": "stream",
     "text": [
      "\u001b[1mincrement.c:14:38: \u001b[0m\u001b[0;1;35mwarning: \u001b[0m\u001b[1moverflow in expression; result is -2'147'483'648 with type 'int' [-Winteger-overflow]\u001b[0m\n",
      "   14 |     printf(\u001b[0;32m\"x + 1 = %d\\n\"\u001b[0m, INT32_MAX + \u001b[0;32m1\u001b[0m);\u001b[0m\n",
      "      | \u001b[0;1;32m                           ~~~~~~~~~~^~~\n",
      "\u001b[0m1 warning generated.\n",
      "x =     2147483647\n",
      "x + 1 = -2147483648\n",
      "x + 1 > x, for int x  = INT32_MAX:  1\n",
      "\n",
      "\n",
      "x =     4294967295\n",
      "x + 1 = 0\n",
      "x + 1 > x, for uint x = UINT32_MAX: 0\n"
     ]
    }
   ],
   "source": [
    "!gcc -O3 increment.c -o increment.out\n",
    "!./increment.out"
   ]
  },
  {
   "cell_type": "markdown",
   "id": "64394d79",
   "metadata": {},
   "source": [
    "Посмотрим непосредственно на то, как целые числа лежат в памяти"
   ]
  },
  {
   "cell_type": "code",
   "execution_count": 49,
   "id": "6119a2d4",
   "metadata": {},
   "outputs": [
    {
     "name": "stdout",
     "output_type": "stream",
     "text": [
      "uint8_t  27: 00011011 \n",
      "int8_t   27: 00011011 \n",
      "int8_t  -27: 11100101 \n",
      "uint16_t 27 (little endian): 00011011 00000000 \n",
      "uint16_t 27    (big endian): 00000000 00011011 \n"
     ]
    }
   ],
   "source": [
    "!gcc print_int.c -o print_int.out\n",
    "!./print_int.out"
   ]
  },
  {
   "cell_type": "markdown",
   "id": "a851a412",
   "metadata": {},
   "source": [
    "Целые числа хранятся в соответствии с 2's complement: \n",
    "* Первый бит отвечает за знак\n",
    "* 0 имеет единственное представление - 000...00\n",
    "* Из-за того, что 0 получается \"положительным\", отрицательных чисел можно представить на 1 больше\n",
    "* Отрицательные числа хранятся в инвертированном виде (-1 это 11111111, а не 10000001)\n",
    "\n",
    "Подробнее о последнем пункте: это сделано, чтобы для при реализации сложения не приходилось отдельно обрабатывать случай отрицательных чисел. К примеру, -1 + 1 = 0 получается ествественным образом: `11111111 + 00000001 = 00000000`"
   ]
  },
  {
   "cell_type": "markdown",
   "id": "792a9ae9",
   "metadata": {},
   "source": [
    "<img src=\"2complement.png\" alt=\"2's complement\" width=\"250\"/>"
   ]
  },
  {
   "cell_type": "markdown",
   "id": "2f14cc10",
   "metadata": {},
   "source": [
    "Минус такого представления: чему равно `-INT_MIN`?"
   ]
  },
  {
   "cell_type": "markdown",
   "id": "aa1192ef",
   "metadata": {},
   "source": [
    "В чем проблема \"естественного\" представления со знаковым битом и содержательной частью? Получается 2 нуля"
   ]
  },
  {
   "cell_type": "markdown",
   "id": "0b40dae0",
   "metadata": {},
   "source": [
    "Endianess определяет порядок **байт** в представлении числа. При little endian сначала идут младшие байты, затем старшие. Порядок бит внутри каждого байта при этом сохраняется.\n",
    "\n",
    "`uint16_t 27    (big endian): 00011011 00000000`\n",
    "\n",
    "В большинстве компьютеров используется little endian. Наиболее частый случай использования big endian - передача данных по сети"
   ]
  },
  {
   "cell_type": "markdown",
   "id": "5eba0980",
   "metadata": {},
   "source": [
    "> Как проверить endianess компьютера, на котором исполняется программа?\n",
    "\n",
    "<details>\n",
    "  <summary>Ответ</summary>\n",
    "\n",
    "  ```c\n",
    "  int is_little_endian() {\n",
    "    int   one  = 1;\n",
    "    char* byte = (char*)&one;\n",
    "    return byte[0] == 1;\n",
    "  }\n",
    "  ```\n",
    "\n",
    "</details>\n"
   ]
  },
  {
   "cell_type": "markdown",
   "id": "6fb00125",
   "metadata": {},
   "source": [
    "## Числа с плавающей точкой"
   ]
  },
  {
   "cell_type": "markdown",
   "id": "0b0b04e3",
   "metadata": {},
   "source": [
    "Стандарт C не дает гарантий о внутреннем представлении чисел с плавающей точкой, но в подавляющем большинстве случаев используется стандарт IEEE-754. Как он устроен? Посмотрим на примере 32-битного типа"
   ]
  },
  {
   "cell_type": "markdown",
   "id": "a5880d84",
   "metadata": {},
   "source": [
    "<img src=\"ieee754.png\" alt=\"ieee-754\" width=\"900\" style=\"background-color:white;\"/>"
   ]
  },
  {
   "cell_type": "markdown",
   "id": "71e9c7e5",
   "metadata": {},
   "source": [
    "Биты числа разделены на 3 группы:\n",
    "\n",
    "1. **Знаковый бит.** Один, старший бит. 0 – число положительное (или нуль), 1 – отрицательное или нуль.\n",
    "2. **Показатель степени.** 8-битное целое число, занимает биты с 23-го по 30-ый. Означает степень двойки, на которую будет домножаться основаная часть числа, записанная далее.\n",
    "3. **Дробная часть.** 23-битное целое число, содержащее значащие биты вещественного числа.\n",
    "\n",
    "Обозначим знаковый бит как `sign`, беззнаковое значение показателя степени как `exp`, а беззнаковое значение дробной части как `frac`."
   ]
  },
  {
   "cell_type": "markdown",
   "id": "ca05f4f2",
   "metadata": {},
   "source": [
    "### Значение числа в разных случаях\n",
    "\n",
    "Итак, как числа получаются с помощью этих компонент? Есть несколько случаев:\n",
    "1. Если $0 < exp < 255$, число называется нормализованным. В таком случае оно равно $−1^{sign}\\times2^{exp − 127}\\times1,frac_2$, то есть знак и степень двойки домножаются на число, у которого в целой части стоит 1, а двоичную дробную часть составляют 23 бита `frac`.\n",
    "\n",
    "Т. к. мы хотим представлять как большие по модулю числа, так и близкие к нулю, то степень двойки должна принимать как положительные, так и отрицательные значения. Поэтому мы вычитаем из неё 127 (смещение), так степень станет принимать значения [-126; 127] (почему не могут быть -127 и 128, увидим ниже).\n",
    "\n",
    "<img src=\"normalized.png\" alt=\"normalized ieee-754\" width=\"900\"/>\n",
    "\n",
    "2. Если `exp=0`, число называется денормализованным. В этом случае его значение $−1^{sign}\\times2^{−126}\\times0,frac_2$.\n",
    "\n",
    "<img src=\"denormalized.png\" alt=\"denormalized ieee-754\" width=\"900\"/>\n",
    "\n",
    "3. Если `exp=255` и `frac=0`, число называется бесконечностью и обозначается `+inf` или `-inf` в зависимости от знака.\n",
    "\n",
    "<img src=\"inf.png\" alt=\"inf ieee-754\" width=\"900\"/>\n",
    "\n",
    "Бесконечности нужны для обозначения очень больших по модулю чисел, для представления которых не достаточно 8 бит показателя степени.\n",
    "\n",
    "4. Если `exp=255` и `frac!=0`, то это `\"NaN\"`. Знак при этом ни на что не влияет.\n",
    "\n",
    "<img src=\"nan.png\" alt=\"nan ieee-754\" width=\"900\"/>\n",
    "\n",
    "Как видно, различных `NaN`-ов бывает много. Все они нужны для обозначения неопределённости в результате выполнения арифметических операций, например, `inf-inf` или `sqrt(-3)`.\n"
   ]
  },
  {
   "cell_type": "markdown",
   "id": "7d39c9c2",
   "metadata": {},
   "source": [
    "Итого, числовая прямая выглядит так:\n",
    "\n",
    "<img src=\"line.png\" alt=\"ieee-754 line\" width=\"900\"/>\n"
   ]
  },
  {
   "cell_type": "markdown",
   "id": "66dedc1c",
   "metadata": {},
   "source": [
    "### Особенности формата"
   ]
  },
  {
   "cell_type": "markdown",
   "id": "41a5d2d9",
   "metadata": {},
   "source": [
    "* Есть два нуля: +0 и -0. +0 имеет все нулевые биты, то есть является нулём как 32-битное целое число.\n",
    "\n",
    "* **Сравнение**: наименьшее положительное нормализованное число ($2^{−126}\\times1,0$) больше наибольшего денормализованного числа ($2^{−126}\\times0,111..1$). Также любое положительное нормализованное число с меньшим $exp$ меньше любого положительного нормализованного числа с большим $exp$. Таким образом, действительно, все положительные денормализованные числа меньше всех положительных нормализованных, а нормализованные расположены в порядке показателя степени.\n",
    "\n",
    "* Такой же порядок остаётся, если сравнивать битовые представления вещественных чисел как знаковые целые числа! (Кроме NaN-ов).\n",
    "\n",
    "* Вещественные числа **становятся более разреженными** при увеличении их модуля. Чем число ближе к нулю, тем оно ближе к ближайшему к нему другому представимому числу. А точнее, денормализованные числа и нормализованные с `exp=1` идут через одинаковый шаг. Нормализованные числа с `exp=2` идут через удвоенный шаг, с `exp=3` - через учетверённый, и так далее. Иллюстрация распределения чисел:\n",
    "\n",
    "<img src=\"distribution.png\" alt=\"ieee-754 numbers distribution\" width=\"900\"/>\n"
   ]
  },
  {
   "cell_type": "markdown",
   "id": "7fc06147",
   "metadata": {},
   "source": [
    "### Арифметические операции\n",
    "* **Умножение** числа на **степень двойки**. Достаточно прибавить/вычесть из показателя степени (учитывая переполнения).\n",
    "* **Умножение** двух чисел. Достаточно **сложить их показатели степени и перемножить мантиссы**. При этом в мантиссе может также получиться число >= 2, тогда надо его нормализовать и прибавить 1 к показателю степени. **Если мантисса** результата не влезает в 23 бита, её надо **округлить**. Если хвост < 1/2 или > 1/2, то округляется вниз или вверх, соответственно. Если хвост в точности 1/2, то округлять всегда в одну сторону плохо, т.к. при большом количестве последовательных операций может накопиться существенная погрешность. Поэтому в этом случае округляется к ближайшему чётному (то есть, если предыдущий бит равен 0, то вниз, если 1 -- вверх). Пример:\n"
   ]
  },
  {
   "cell_type": "raw",
   "id": "5eddfc30",
   "metadata": {
    "vscode": {
     "languageId": "raw"
    }
   },
   "source": [
    "  |23 бита|           |23 бита|\n",
    "1,01.....1101111 -> 1,01.....11   // хвост < 1/2, округляем вниз\n",
    "  |       |           |       |\n",
    "1,01.....0110011 -> 1,01.....10   // хвост > 1/2, округляем вверх\n",
    "  |       |           |       |\n",
    "1,01.....0010000 -> 1,01.....00   // хвост = 1/2, округляем вниз\n",
    "  |       |           |       |\n",
    "1,01.....0110000 -> 1,01.....10   // хвост = 1/2, округляем вверх"
   ]
  },
  {
   "cell_type": "markdown",
   "id": "ddde1d2b",
   "metadata": {},
   "source": [
    "* **Деление** аналогично.\n",
    "* **Сложение и вычитание**. Привести оба числа к одинаковому показателю степени, выполнить операцию, привести к нормализованному или денормализованному виду и округлить по правилам выше, если потребуется."
   ]
  },
  {
   "cell_type": "markdown",
   "id": "44e861e9",
   "metadata": {},
   "source": [
    "### Свойства арифметических операций\n",
    "* При корректных арифметических операциях получается либо число, либо бесконечность.\n",
    "\n",
    "* Сложение и умножение коммутативны\n",
    "\n",
    "* Ассоциативности нет. Из-за округления в процессе выполнения операций могут получиться разные результаты. Например, $(3.14+2^{100})−2^{100}=0$, но $3.14+(2^{100}−2^{100})=3.14$. Из-за этого, для сохранения точности выполнять операции стоит в определённом порядке. Например, если хотим сложить массив вещественных чисел в одно число, лучше всего делать это в порядке сортировки чисел по возрастанию модулей.\n",
    "\n",
    "* У конечных чисел есть обратный элемент по сложению.\n",
    "\n",
    "* Монотонность: $a \\geq b \\Rightarrow a+c \\geq b+c$, если нет переполнений и NaN-ов.\n",
    "\n"
   ]
  },
  {
   "cell_type": "markdown",
   "id": "3dc8f31c",
   "metadata": {},
   "source": [
    "### Больше про IEEE-754:\n",
    "* [Калькулятор](https://www.h-schmidt.net/FloatConverter/IEEE754.html)\n",
    "* [Визуализатор арифметики](https://weitz.de/ieee/)\n",
    "* Где множество чисел с плавающей точкой, оснащенное операциями сложения и умножения, находится в алгебраической иерархии? (множество, магма, полугруппа, группа, кольцо, поле) <details> <summary>Ответ</summary> Является множеством и магмой. Полугруппой уже не является, так как нет ассоциативности сложения</details>\n",
    "* Влияет ли endianess на представление чисел с плавающей точкой в памяти? <details>\n",
    "    <summary>Ответ</summary>\n",
    "    Да, влияет. Пример в float_endianess.c\n",
    "</details>"
   ]
  },
  {
   "cell_type": "markdown",
   "id": "d97d6f11",
   "metadata": {},
   "source": [
    "## Кодировки"
   ]
  },
  {
   "cell_type": "markdown",
   "id": "293ea029",
   "metadata": {},
   "source": [
    "<img src=\"ascii.png\" alt=\"ASCII\" width=\"900\" style=\"background-color:white;\"/>\n",
    "\n",
    "В середине 20 века возникла потребность как-то кодировать текст двоичными данными. Тогда решили, что 7 бит достаточно на цифры и латинский алфавит, так и появилась кодировка ASCII.\n",
    "\n",
    "Позже один лишний бит позволил хранить в диапазоне от 128 до 255 символы национальных кодировок. В России, например, в 90-е была распространена `KOI8-R`.\n",
    "\n",
    "Иметь отдельную кодировку под каждый язык всё ещё было не очень удобно, поэтому появилась `UTF-8`. Чтобы не занимать гарантированно 4 байта (октета), был придуман интересный дизайн:"
   ]
  },
  {
   "cell_type": "markdown",
   "id": "33616c6a",
   "metadata": {},
   "source": [
    "| Количество октетов | Шаблон |\n",
    "|---|---|\n",
    "|1|0xxxxxxx|\n",
    "|2|110xxxxx 10xxxxxx|\n",
    "|3|1110xxxx 10xxxxxx 10xxxxxx|\n",
    "|4|11110xxx 10xxxxxx 10xxxxxx 10xxxxxx|"
   ]
  },
  {
   "cell_type": "markdown",
   "id": "be79d299",
   "metadata": {},
   "source": [
    "Таким образом:\n",
    "1. UTF-8 совместима с ASCII, то есть кодирует символы точно так же \n",
    "2. Имеет нефиксированное количество байт на символ, тем самым позволяя кодировать более часто используемые символы меньшим количество байт\n",
    "3. Не позволяет делать быстрый random access (доступ к n-му символу строки)\n",
    "4. Не позволяет быстро узнать количество символов в строке"
   ]
  },
  {
   "cell_type": "markdown",
   "id": "e5a54ae4",
   "metadata": {},
   "source": [
    "<img src=\"semicolon_meme.png\" alt=\"semicolon meme\" width=\"500\"/>"
   ]
  },
  {
   "cell_type": "code",
   "execution_count": 58,
   "id": "9c6cb090",
   "metadata": {},
   "outputs": [],
   "source": [
    "def add_spaces(s):\n",
    "    return \"\".join(c + (\"\" if (i + 1) % 6 else \" \") for i, c in enumerate(s[::-1]))[::-1]\n",
    "\n",
    "def show_utf_8(c):\n",
    "    num = c if isinstance(c, int) else ord(c) \n",
    "    print(\"       CHR:\", chr(num))\n",
    "    encoded = chr(num).encode(\"utf-8\")\n",
    "    print(\"   BIN NUM: {:b}\".format(num))\n",
    "    print(\"  BIN NUM2:\", add_spaces(\"{:b}\".format(num)))\n",
    "    print(\" UTF-8 BIN:\", \" \".join(\"{:b}\".format(b).rjust(8, '0') for b in encoded))"
   ]
  },
  {
   "cell_type": "code",
   "execution_count": 59,
   "id": "edfaf034",
   "metadata": {},
   "outputs": [
    {
     "name": "stdout",
     "output_type": "stream",
     "text": [
      "       CHR: q\n",
      "   BIN NUM: 1110001\n",
      "  BIN NUM2: 1 110001\n",
      " UTF-8 BIN: 01110001\n"
     ]
    }
   ],
   "source": [
    "show_utf_8(\"q\")"
   ]
  },
  {
   "cell_type": "code",
   "execution_count": 60,
   "id": "08d1500d",
   "metadata": {},
   "outputs": [
    {
     "name": "stdout",
     "output_type": "stream",
     "text": [
      "       CHR: \n",
      "\n",
      "   BIN NUM: 1010\n",
      "  BIN NUM2: 1010\n",
      " UTF-8 BIN: 00001010\n"
     ]
    }
   ],
   "source": [
    "show_utf_8(\"\\n\")"
   ]
  },
  {
   "cell_type": "code",
   "execution_count": 61,
   "id": "8aa649e4",
   "metadata": {},
   "outputs": [
    {
     "name": "stdout",
     "output_type": "stream",
     "text": [
      "       CHR: ы\n",
      "   BIN NUM: 10001001011\n",
      "  BIN NUM2: 10001 001011\n",
      " UTF-8 BIN: 11010001 10001011\n"
     ]
    }
   ],
   "source": [
    "show_utf_8(\"ы\")"
   ]
  },
  {
   "cell_type": "code",
   "execution_count": 62,
   "id": "2a70fb55",
   "metadata": {},
   "outputs": [
    {
     "name": "stdout",
     "output_type": "stream",
     "text": [
      "       CHR: 岁\n",
      "   BIN NUM: 101110010000001\n",
      "  BIN NUM2: 101 110010 000001\n",
      " UTF-8 BIN: 11100101 10110010 10000001\n"
     ]
    }
   ],
   "source": [
    "show_utf_8(\"岁\")"
   ]
  },
  {
   "cell_type": "code",
   "execution_count": 63,
   "id": "2e961598",
   "metadata": {},
   "outputs": [
    {
     "name": "stdout",
     "output_type": "stream",
     "text": [
      "       CHR: 😎\n",
      "   BIN NUM: 11111011000001110\n",
      "  BIN NUM2: 11111 011000 001110\n",
      " UTF-8 BIN: 11110000 10011111 10011000 10001110\n"
     ]
    }
   ],
   "source": [
    "show_utf_8(\"😎\")"
   ]
  },
  {
   "cell_type": "markdown",
   "id": "5a207be0",
   "metadata": {},
   "source": [
    "UTF-8 - это кодировка, определяющая, какими байтами будет записан один Unicode codepoint. Некоторые символы записываются несколькими codepoint-ами (composite codepoint):"
   ]
  },
  {
   "cell_type": "code",
   "execution_count": 64,
   "id": "819d6d31",
   "metadata": {},
   "outputs": [
    {
     "ename": "TypeError",
     "evalue": "ord() expected a character, but string of length 2 found",
     "output_type": "error",
     "traceback": [
      "\u001b[31m---------------------------------------------------------------------------\u001b[39m",
      "\u001b[31mTypeError\u001b[39m                                 Traceback (most recent call last)",
      "\u001b[36mCell\u001b[39m\u001b[36m \u001b[39m\u001b[32mIn[64]\u001b[39m\u001b[32m, line 1\u001b[39m\n\u001b[32m----> \u001b[39m\u001b[32m1\u001b[39m \u001b[43mshow_utf_8\u001b[49m\u001b[43m(\u001b[49m\u001b[33;43m\"\u001b[39;49m\u001b[33;43mn̂\u001b[39;49m\u001b[33;43m\"\u001b[39;49m\u001b[43m)\u001b[49m\n",
      "\u001b[36mCell\u001b[39m\u001b[36m \u001b[39m\u001b[32mIn[58]\u001b[39m\u001b[32m, line 5\u001b[39m, in \u001b[36mshow_utf_8\u001b[39m\u001b[34m(c)\u001b[39m\n\u001b[32m      4\u001b[39m \u001b[38;5;28;01mdef\u001b[39;00m\u001b[38;5;250m \u001b[39m\u001b[34mshow_utf_8\u001b[39m(c):\n\u001b[32m----> \u001b[39m\u001b[32m5\u001b[39m     num = c \u001b[38;5;28;01mif\u001b[39;00m \u001b[38;5;28misinstance\u001b[39m(c, \u001b[38;5;28mint\u001b[39m) \u001b[38;5;28;01melse\u001b[39;00m \u001b[38;5;28;43mord\u001b[39;49m\u001b[43m(\u001b[49m\u001b[43mc\u001b[49m\u001b[43m)\u001b[49m \n\u001b[32m      6\u001b[39m     \u001b[38;5;28mprint\u001b[39m(\u001b[33m\"\u001b[39m\u001b[33m       CHR:\u001b[39m\u001b[33m\"\u001b[39m, \u001b[38;5;28mchr\u001b[39m(num))\n\u001b[32m      7\u001b[39m     encoded = \u001b[38;5;28mchr\u001b[39m(num).encode(\u001b[33m\"\u001b[39m\u001b[33mutf-8\u001b[39m\u001b[33m\"\u001b[39m)\n",
      "\u001b[31mTypeError\u001b[39m: ord() expected a character, but string of length 2 found"
     ]
    }
   ],
   "source": [
    "show_utf_8(\"n̂\")"
   ]
  },
  {
   "cell_type": "code",
   "execution_count": 65,
   "id": "d5b0d9ca",
   "metadata": {},
   "outputs": [
    {
     "name": "stdout",
     "output_type": "stream",
     "text": [
      "       CHR: n\n",
      "   BIN NUM: 1101110\n",
      "  BIN NUM2: 1 101110\n",
      " UTF-8 BIN: 01101110\n",
      "\n",
      "       CHR: ̂\n",
      "   BIN NUM: 1100000010\n",
      "  BIN NUM2: 1100 000010\n",
      " UTF-8 BIN: 11001100 10000010\n"
     ]
    }
   ],
   "source": [
    "s = \"n̂\"\n",
    "show_utf_8(s[0])\n",
    "print()\n",
    "show_utf_8(s[1])"
   ]
  },
  {
   "cell_type": "markdown",
   "id": "0c07fa56",
   "metadata": {},
   "source": [
    "### Как это ложится на языки программирования?\n",
    "* C: строки - просто `char*`, то есть последовательность байт. Кодировки - более высокоуровневые абстракции\n",
    "* Rust: строки хранятся в UTF-8 совместимом представлении. Последствия:\n",
    "```rust\n",
    "let s = String::from(\"ラウトは難しいです！\");\n",
    "s.len() // returns 30 (number of bytes).\n",
    "s[0] // does not compile: the type `std::string::String` cannot be indexed by `usize`\n",
    "``` \n",
    "* Python: [все сложно](https://dev.to/bplevin36/python-strings-are-not-utf-8-2dfj) (не UTF-8, но это не так легко заметить)"
   ]
  },
  {
   "cell_type": "markdown",
   "id": "221847b5",
   "metadata": {},
   "source": [
    "Больше о хранении символов:\n",
    "* [Объяснение терминов](https://stackoverflow.com/questions/27331819/whats-the-difference-between-a-character-a-code-point-a-glyph-and-a-grapheme)\n",
    "* [Python strings are not UTF-8](https://dev.to/bplevin36/python-strings-are-not-utf-8-2dfj)\n",
    "\n",
    "<img src=\"encodings_meme.png\" alt=\"ASCII\" width=\"400\"/>\n"
   ]
  },
  {
   "cell_type": "code",
   "execution_count": null,
   "id": "688f24e0",
   "metadata": {},
   "outputs": [],
   "source": []
  }
 ],
 "metadata": {
  "kernelspec": {
   "display_name": ".venv",
   "language": "python",
   "name": "python3"
  },
  "language_info": {
   "codemirror_mode": {
    "name": "ipython",
    "version": 3
   },
   "file_extension": ".py",
   "mimetype": "text/x-python",
   "name": "python",
   "nbconvert_exporter": "python",
   "pygments_lexer": "ipython3",
   "version": "3.13.7"
  }
 },
 "nbformat": 4,
 "nbformat_minor": 5
}
