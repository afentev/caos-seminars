{
 "cells": [
  {
   "cell_type": "markdown",
   "id": "75b5242d",
   "metadata": {},
   "source": [
    "# Семинар 3 - низкоуровневый ввод-вывод и файлы"
   ]
  },
  {
   "cell_type": "markdown",
   "id": "0e53af7d",
   "metadata": {},
   "source": [
    "Сегодня в программе:\n",
    "1. Сисколы\n",
    "2. Низкоуровневый ввод/вывод\n",
    "3. Файлы и их друзья\n",
    "4. Жесткие и символические ссылки\n",
    "5. Директории\n",
    "6. Fuse"
   ]
  },
  {
   "cell_type": "markdown",
   "id": "054c3e1e",
   "metadata": {},
   "source": [
    "Как программа может взаимодействовать с внешним миром? Одни из простейших примеров: ввод-вывод через терминал. На самом деле любое(*) взаимодействие программы с внешним миром - это сискол. \n",
    "\n",
    "Сискол - это взаимодействие программы с ядром операционной системы. Операционная система предоставляет программам ограниченное число сисколов, которые они могут использовать.\n",
    "\n",
    "Примеры:\n",
    "|**Действие**|**Сискол**|\n",
    "|:----------:|:-------------:|\n",
    "|ввод|read|\n",
    "|вывод|write|\n",
    "|динамическое выделение памяти|brk, mmap|\n",
    "|создание нового процесса|fork|\n",
    "|открытие сетевого соединения|connect|"
   ]
  },
  {
   "cell_type": "markdown",
   "id": "65722e0f",
   "metadata": {},
   "source": [
    "Чтобы посмотреть, какие сисколы делает программа, есть утилита `strace`. Вернемся к примеру с Hello, world с первого семинара:"
   ]
  },
  {
   "cell_type": "code",
   "execution_count": 3,
   "id": "85ad350e",
   "metadata": {},
   "outputs": [
    {
     "name": "stdout",
     "output_type": "stream",
     "text": [
      "#include <stdio.h>\n",
      "\n",
      "int main() {\n",
      "    printf(\"Hello, world!\");\n",
      "}\n"
     ]
    }
   ],
   "source": [
    "!cat helloworld.c\n",
    "!gcc helloworld.c -o helloworld.out"
   ]
  },
  {
   "cell_type": "code",
   "execution_count": 5,
   "id": "242b3393",
   "metadata": {},
   "outputs": [
    {
     "name": "stdout",
     "output_type": "stream",
     "text": [
      "zsh:1: command not found: strace\n"
     ]
    }
   ],
   "source": [
    "!strace ./helloworld.out"
   ]
  },
  {
   "cell_type": "markdown",
   "id": "2438bdd5",
   "metadata": {},
   "source": [
    "```\n",
    "execve(\"./a.out\", [\"./a.out\"], 0xffffe11b47c0 /* 24 vars */) = 0\n",
    "brk(NULL)                               = 0xbcf1f8633000\n",
    "mmap(NULL, 8192, PROT_READ|PROT_WRITE, MAP_PRIVATE|MAP_ANONYMOUS, -1, 0) = 0xeb50b6b61000\n",
    "faccessat(AT_FDCWD, \"/etc/ld.so.preload\", R_OK) = -1 ENOENT (No such file or directory)\n",
    "openat(AT_FDCWD, \"/etc/ld.so.cache\", O_RDONLY|O_CLOEXEC) = 3\n",
    "fstat(3, {st_mode=S_IFREG|0644, st_size=22297, ...}) = 0\n",
    "mmap(NULL, 22297, PROT_READ, MAP_PRIVATE, 3, 0) = 0xeb50b6b5b000\n",
    "close(3)                                = 0\n",
    "openat(AT_FDCWD, \"/lib/aarch64-linux-gnu/libc.so.6\", O_RDONLY|O_CLOEXEC) = 3\n",
    "read(3, \"\\177ELF\\2\\1\\1\\3\\0\\0\\0\\0\\0\\0\\0\\0\\3\\0\\267\\0\\1\\0\\0\\0(%\\2\\0\\0\\0\\0\\0\"..., 832) = 832\n",
    "fstat(3, {st_mode=S_IFREG|0755, st_size=1788672, ...}) = 0\n",
    "mmap(NULL, 1957936, PROT_NONE, MAP_PRIVATE|MAP_ANONYMOUS|MAP_DENYWRITE, -1, 0) = 0xeb50b694a000\n",
    "mmap(0xeb50b6950000, 1892400, PROT_READ|PROT_EXEC, MAP_PRIVATE|MAP_FIXED|MAP_DENYWRITE, 3, 0) = 0xeb50b6950000\n",
    "munmap(0xeb50b694a000, 24576)           = 0\n",
    "munmap(0xeb50b6b1f000, 36912)           = 0\n",
    "mprotect(0xeb50b6afa000, 77824, PROT_NONE) = 0\n",
    "mmap(0xeb50b6b0d000, 20480, PROT_READ|PROT_WRITE, MAP_PRIVATE|MAP_FIXED|MAP_DENYWRITE, 3, 0x1ad000) = 0xeb50b6b0d000\n",
    "mmap(0xeb50b6b12000, 49200, PROT_READ|PROT_WRITE, MAP_PRIVATE|MAP_FIXED|MAP_ANONYMOUS, -1, 0) = 0xeb50b6b12000\n",
    "close(3)                                = 0\n",
    "set_tid_address(0xeb50b6b61fd0)         = 1961\n",
    "set_robust_list(0xeb50b6b61fe0, 24)     = 0\n",
    "rseq(0xeb50b6b626c0, 0x20, 0, 0xd428bc00) = 0\n",
    "mprotect(0xeb50b6b0d000, 12288, PROT_READ) = 0\n",
    "mprotect(0xbcf1ed22f000, 4096, PROT_READ) = 0\n",
    "mprotect(0xeb50b6b67000, 8192, PROT_READ) = 0\n",
    "prlimit64(0, RLIMIT_STACK, NULL, {rlim_cur=8192*1024, rlim_max=RLIM64_INFINITY}) = 0\n",
    "munmap(0xeb50b6b5b000, 22297)           = 0\n",
    "fstat(1, {st_mode=S_IFCHR|0620, st_rdev=makedev(0x88, 0), ...}) = 0\n",
    "getrandom(\"\\x7c\\x8a\\x7d\\x05\\xf9\\xae\\xdc\\x44\", 8, GRND_NONBLOCK) = 8\n",
    "brk(NULL)                               = 0xbcf1f8633000\n",
    "brk(0xbcf1f8654000)                     = 0xbcf1f8654000\n",
    "write(1, \"Hello World\\n\", 12Hello World\n",
    ")           = 12\n",
    "exit_group(0)                           = ?\n",
    "+++ exited with 0 +++\n",
    "```"
   ]
  },
  {
   "cell_type": "markdown",
   "id": "ab5cc90f",
   "metadata": {},
   "source": [
    "Нас интересует предпоследний сискол - `write`. Изучим его подробнее."
   ]
  },
  {
   "cell_type": "markdown",
   "id": "c64385de",
   "metadata": {},
   "source": [
    "Для этого воспользуемся утилитой `man` (manual). Рекомендуется освоится с ней, потому что она будет полезна всю оставшуюся часть курса. Синтаксис: `man <section> <search>`\n",
    "\n",
    "```\n",
    "MANUAL SECTIONS\n",
    "    The standard sections of the manual include:\n",
    "\n",
    "    1      User Commands\n",
    "    2      System Calls\n",
    "    3      C Library Functions\n",
    "    4      Devices and Special Files\n",
    "    5      File Formats and Conventions\n",
    "    6      Games et. al.\n",
    "    7      Miscellanea\n",
    "    8      System Administration tools and Daemons\n",
    "\n",
    "    Distributions customize the manual section to their specifics,\n",
    "    which often include additional sections.\n",
    "```"
   ]
  },
  {
   "cell_type": "code",
   "execution_count": 6,
   "id": "5c533a2b",
   "metadata": {},
   "outputs": [
    {
     "name": "stdout",
     "output_type": "stream",
     "text": [
      "WRITE(2)                      System Calls Manual                     WRITE(2)\n",
      "\n",
      "NAME\n",
      "     pwrite, write, pwritev, writev – write output\n",
      "\n",
      "LIBRARY\n",
      "     Standard C Library (libc, -lc)\n",
      "\n",
      "SYNOPSIS\n",
      "     #include <unistd.h>\n",
      "\n",
      "     ssize_t\n",
      "     pwrite(int fildes, const void *buf, size_t nbyte, off_t offset);\n",
      "\n",
      "     ssize_t\n",
      "     write(int fildes, const void *buf, size_t nbyte);\n",
      "\n",
      "     #include <sys/uio.h>\n",
      "\n",
      "     ssize_t\n",
      "     writev(int fildes, const struct iovec *iov, int iovcnt);\n",
      "\n",
      "     ssize_t\n",
      "     pwritev(int fildes, const struct iovec *iov, int iovcnt, off_t offset);\n",
      "\n",
      "DESCRIPTION\n",
      "     write() attempts to write nbyte of data to the object referenced by the\n",
      "     descriptor fildes from the buffer pointed to by buf.  writev() performs\n",
      "     the same action, but gathers the output data from the iovcnt buffers\n",
      "     specified by the members of the iov array: iov[0], iov[1], ...,\n",
      "     iov[iovcnt-1].  pwrite() and pwritev() perform the same functions, but\n",
      "     write to the specified position in the file without modifying the file\n",
      "     pointer.\n",
      "\n",
      "     For writev() and pwritev(), the iovec structure is defined as:\n",
      "\n",
      "           struct iovec {\n",
      "                   char   *iov_base;  /* Base address. */\n",
      "                   size_t iov_len;    /* Length. */\n",
      "           };\n",
      "\n",
      "     Each iovec entry specifies the base address and length of an area in\n",
      "     memory from which data should be written.  writev() and pwritev() will\n",
      "     always write a complete area before proceeding to the next.\n",
      "\n",
      "     On objects capable of seeking, the write() starts at a position given by\n",
      "     the pointer associated with fildes, see lseek(2).  Upon return from\n",
      "     write(), the pointer is incremented by the number of bytes which were\n",
      "     written.\n",
      "\n",
      "     Objects that are not capable of seeking always write from the current\n",
      "     position.  The value of the pointer associated with such an object is\n",
      "     undefined.\n",
      "\n",
      "     If the real user is not the super-user, then write() clears the set-user-\n",
      "     id bit on a file.  This prevents penetration of system security by a user\n",
      "     who “captures” a writable set-user-id file owned by the super-user.\n",
      "\n",
      "     When using non-blocking I/O on objects, such as sockets, that are subject\n",
      "     to flow control, write() and writev() may write fewer bytes than\n",
      "     requested; the return value must be noted, and the remainder of the\n",
      "     operation should be retried when possible.\n",
      "\n",
      "     write() and pwrite() will fail if the parameter nbyte exceeds INT_MAX,\n",
      "     and they do not attempt a partial write.\n",
      "\n",
      "RETURN VALUES\n",
      "     Upon successful completion the number of bytes which were written is\n",
      "     returned.  Otherwise, a -1 is returned and the global variable errno is\n",
      "     set to indicate the error.\n",
      "\n",
      "ERRORS\n",
      "     The write(), writev(), pwrite(), and pwritev() system calls will fail and\n",
      "     the file pointer will remain unchanged if:\n",
      "\n",
      "     [EDQUOT]           The user's quota of disk blocks on the file system\n",
      "                        containing the file is exhausted.\n",
      "\n",
      "     [EFAULT]           Part of iov or data to be written to the file points\n",
      "                        outside the process's allocated address space.\n",
      "\n",
      "     [EINVAL]           The pointer associated with fildes is negative.\n",
      "\n",
      "     The write() and pwrite() system calls will fail and the file pointer will\n",
      "     remain unchanged if:\n",
      "\n",
      "     [EAGAIN]           The file is marked for non-blocking I/O, and no data\n",
      "                        could be written immediately.\n",
      "\n",
      "     [EBADF]            fildes is not a valid file descriptor open for\n",
      "                        writing.\n",
      "\n",
      "     [ECONNRESET]       A write is attempted on a socket that is not\n",
      "                        connected.\n",
      "\n",
      "     [EFBIG]            An attempt is made to write a file that exceeds the\n",
      "                        process's file size limit or the maximum file size.\n",
      "\n",
      "     [EFBIG]            The file is a regular file, nbyte is greater than 0,\n",
      "                        and the starting position is greater than or equal to\n",
      "                        the offset maximum established in the open file\n",
      "                        description associated with fildes.\n",
      "\n",
      "     [EINTR]            A signal interrupts the write before it could be\n",
      "                        completed.\n",
      "\n",
      "     [EINVAL]           The value provided for nbyte exceeds INT_MAX.\n",
      "\n",
      "     [EIO]              An I/O error occurs while reading from or writing to\n",
      "                        the file system.\n",
      "\n",
      "     [ENETDOWN]         A write is attempted on a socket and the local network\n",
      "                        interface used to reach the destination is down.\n",
      "\n",
      "     [ENETUNREACH]      A write is attempted on a socket and no route to the\n",
      "                        network is present.\n",
      "\n",
      "     [ENOSPC]           There is no free space remaining on the file system\n",
      "                        containing the file.\n",
      "\n",
      "     [ENXIO]            A request is made of a nonexistent device, or the\n",
      "                        request is outside the capabilities of the device.\n",
      "\n",
      "     [EPIPE]            An attempt is made to write to a pipe that is not open\n",
      "                        for reading by any process.\n",
      "\n",
      "     [EPIPE]            An attempt is made to write to a socket of type\n",
      "                        SOCK_STREAM that is not connected to a peer socket.\n",
      "\n",
      "     [EDEADLK]          The file is a “dataless” file that requires\n",
      "                        materialization and the I/O policy of the current\n",
      "                        thread or process disallows dataless file\n",
      "                        materialization (see getiopolicy_np(3)).\n",
      "\n",
      "     The write() and writev() calls may also return the following errors:\n",
      "\n",
      "     [EAGAIN]           See EWOULDBLOCK, below.\n",
      "\n",
      "     [EWOULDBLOCK]      The file descriptor is for a socket, is marked\n",
      "                        O_NONBLOCK, and write would block.  The exact error\n",
      "                        code depends on the protocol, but EWOULDBLOCK is more\n",
      "                        common.\n",
      "\n",
      "     In addition, writev() may return one of the following errors:\n",
      "\n",
      "     [EDESTADDRREQ]     The destination is no longer available when writing to\n",
      "                        a UNIX domain datagram socket on which connect(2) or\n",
      "                        connectx(2) had been used to set a destination\n",
      "                        address.\n",
      "\n",
      "     [ENOBUFS]          The mbuf pool has been completely exhausted when\n",
      "                        writing to a socket.\n",
      "\n",
      "     The writev() and pwritev() calls may also return the following errors:\n",
      "\n",
      "     [EINVAL]           Iovcnt is less than or equal to 0, or greater than\n",
      "                        UIO_MAXIOV.\n",
      "\n",
      "     [EINVAL]           One of the iov_len values in the iov array is\n",
      "                        negative.\n",
      "\n",
      "     [EINVAL]           The sum of the iov_len values in the iov array\n",
      "                        overflows a 32-bit integer.\n",
      "\n",
      "     The pwrite() and pwritev() calls may also return the following errors:\n",
      "\n",
      "     [EINVAL]           The specified file offset is invalid.\n",
      "\n",
      "     [ESPIPE]           The file descriptor is associated with a pipe, socket,\n",
      "                        or FIFO.\n",
      "\n",
      "LEGACY SYNOPSIS\n",
      "     #include <sys/types.h>\n",
      "     #include <sys/uio.h>\n",
      "     #include <unistd.h>\n",
      "\n",
      "     These include files are needed for all three functions.\n",
      "\n",
      "SEE ALSO\n",
      "     fcntl(2), lseek(2), open(2), pipe(2), select(2), compat(5)\n",
      "\n",
      "STANDARDS\n",
      "     The write() function call is expected to conform to IEEE Std 1003.1-1990\n",
      "     (“POSIX.1”).  The writev() and pwrite() functions are expected to conform\n",
      "     to X/Open Portability Guide Issue 4, Version 2 (“XPG4.2”).  pwritev() is\n",
      "     nonstandard.\n",
      "\n",
      "HISTORY\n",
      "     The pwrite() function call appeared in AT&T System V Release 4 UNIX.  The\n",
      "     writev() function call appeared in 4.2BSD.  A write() function call\n",
      "     appeared in Version 6 AT&T UNIX.\n",
      "\n",
      "macOS 15.6                       June 3, 2021                       macOS 15.6\n"
     ]
    }
   ],
   "source": [
    "!man 2 write"
   ]
  },
  {
   "cell_type": "markdown",
   "id": "ae0ec0d6",
   "metadata": {},
   "source": [
    "Видим определение (из linux): `ssize_t write(int fd, const void buf[count], size_t count);`"
   ]
  },
  {
   "cell_type": "markdown",
   "id": "8a769e53",
   "metadata": {},
   "source": [
    "`buf` - указатель, из которого копировать данные. `count` - количество байт для записи. `fd` - файловый дескриптор."
   ]
  },
  {
   "cell_type": "markdown",
   "id": "5de9f625",
   "metadata": {},
   "source": [
    "Файловый дескриптор - это числовой идентификатор открытого файла в рамках одного процесса. Примеры стандартных файловых дескрипторов: `0 stdin, 1 stdout, 2 stderr`."
   ]
  },
  {
   "cell_type": "markdown",
   "id": "40086269",
   "metadata": {},
   "source": [
    "<img src=\"fd_table.gif\" alt=\"file descriptors\" width=\"800\"/>"
   ]
  },
  {
   "cell_type": "markdown",
   "id": "17ee39d2",
   "metadata": {},
   "source": [
    "Как с этим работать?"
   ]
  },
  {
   "cell_type": "markdown",
   "id": "20f76b49",
   "metadata": {},
   "source": [
    "Для открытия файла есть сискол `open`:\n",
    "```c\n",
    "int open(const char *path, int flags, ... /* mode_t mode */);\n",
    "// flags O_RDONLY, O_WRONLY, ..., O_CREAT\n",
    "```"
   ]
  },
  {
   "cell_type": "markdown",
   "id": "b26ea2e8",
   "metadata": {},
   "source": [
    "Основные параметры открытия файлов:\n",
    "\n",
    "* `O_RDONLY` - только для чтения;\n",
    "* `O_WRONLY` - только на запись;\n",
    "* `O_RDWR` - чтение и запись;\n",
    "* `O_APPEND` - запись в конец файла;\n",
    "* `O_TRUNC` - обнуление файла при открытии;\n",
    "* `O_CREAT` - создание файла, если не существует;\n",
    "* `O_EXCL` - создание файла только если он не существует."
   ]
  },
  {
   "cell_type": "markdown",
   "id": "e6e9d260",
   "metadata": {},
   "source": [
    "В случае успеха возвращается неотрицательное число - дескриптор, в случае ошибки - значение `-1`."
   ]
  },
  {
   "cell_type": "markdown",
   "id": "89ef3042",
   "metadata": {},
   "source": [
    "Если выставлен флаг `O_CREAT`, обязательным параметром является набор POSIX-аттрибутов доступа к файлу. Как правило, они кодируются в восьмеричной системе исчисления в виде `0ugo`, где `u` - права доступа для владельца файла, `g` - права доступа для всех пользователей группы файла, `o` - для остальных."
   ]
  },
  {
   "cell_type": "markdown",
   "id": "ca986a07",
   "metadata": {},
   "source": [
    "В восьмеричной записи значения от 0 до 7 соответствуют комбинации трёх бит, где `r` это чтение, `w` запись, а `x` исполнение:\n",
    "```c\n",
    "00: ---\n",
    "01: --x\n",
    "02: -w-\n",
    "03: -wx\n",
    "04: r--\n",
    "05: r-x\n",
    "06: rw-\n",
    "07: rwx\n",
    "```"
   ]
  },
  {
   "cell_type": "markdown",
   "id": "5d4286e3",
   "metadata": {},
   "source": [
    "У `open` есть парный сискол: `close`. \n",
    "\n",
    "```c\n",
    "int close(int fd);\n",
    "```\n",
    "\n",
    "Он возвращает `0` в случае успеха и `-1` при ошибке. Для всех открытых файловых дескрипторов должен быть вызван соответствующий `close`."
   ]
  },
  {
   "cell_type": "markdown",
   "id": "dac0a4df",
   "metadata": {},
   "source": [
    "Для чтения и записи есть сисколы `read` и ранее упомянутый `write`:\n",
    "```c\n",
    "ssize_t read(int fd, void *buf, size_t count);\n",
    "ssize_t write(int fd, const void *buf, size_t count);\n",
    "// count максимальне количество байт, должно быть меньше размера буффера.\n",
    "```\n",
    "\n",
    "Возвращают они количество прочитанных/записанных байт. Гарантируется, что в случае успеха они обработают ненулевое число байт, но необязательно все доступные данные. Поэтому читать/писать нужно в цикле."
   ]
  },
  {
   "cell_type": "markdown",
   "id": "2abbc33a",
   "metadata": {},
   "source": [
    "Начнем рассматривать примеры:"
   ]
  },
  {
   "cell_type": "code",
   "execution_count": 221,
   "id": "c5a77d30",
   "metadata": {},
   "outputs": [
    {
     "name": "stdout",
     "output_type": "stream",
     "text": [
      "#include <stdlib.h>\n",
      "#include <unistd.h>\n",
      "#include <fcntl.h>\n",
      "#include <string.h>\n",
      "\n",
      "int main() {\n",
      "    int input_fd  = open(\"/Users/k.afentev/CAOS/caos-2025/sem03-lowlevel-io-fs/input.txt\",  O_RDONLY);\n",
      "    int output_fd = open(\"/Users/k.afentev/CAOS/caos-2025/sem03-lowlevel-io-fs/output.txt\", O_WRONLY | O_TRUNC);\n",
      "\n",
      "    int buffer_size = 16;\n",
      "    char* buffer = (char*)malloc(buffer_size);\n",
      "\n",
      "    int read_bytes = read(input_fd, buffer, buffer_size);\n",
      "    int written = write(output_fd, buffer, read_bytes);\n",
      "\n",
      "    close(input_fd);\n",
      "    close(output_fd);\n",
      "\n",
      "    return 0;\n",
      "}"
     ]
    }
   ],
   "source": [
    "!cat basic_io.c\n",
    "!gcc basic_io.c -o basic_io.out"
   ]
  },
  {
   "cell_type": "code",
   "execution_count": 222,
   "id": "6298ca51",
   "metadata": {},
   "outputs": [],
   "source": [
    "!./basic_io.out"
   ]
  },
  {
   "cell_type": "markdown",
   "id": "561b112d",
   "metadata": {},
   "source": [
    "Пример работает. Посмотрим на вывод `strace` для него:"
   ]
  },
  {
   "cell_type": "code",
   "execution_count": 15,
   "id": "c01a6475",
   "metadata": {},
   "outputs": [
    {
     "name": "stdout",
     "output_type": "stream",
     "text": [
      "zsh:1: command not found: strace\n"
     ]
    }
   ],
   "source": [
    "!strace ./basic_io.out"
   ]
  },
  {
   "cell_type": "markdown",
   "id": "653fd7cd",
   "metadata": {},
   "source": [
    "```\n",
    "...\n",
    "openat(AT_FDCWD, \"/Users/k.afentev/CAOS/caos-2025/sem03-lowlevel-io-fs/input.txt\", O_RDONLY) = 3\n",
    "openat(AT_FDCWD, \"/Users/k.afentev/CAOS/caos-2025/sem03-lowlevel-io-fs/output.txt\", O_WRONLY|O_TRUNC) = 4\n",
    "getrandom(\"\\x87\\xe6\\xdb\\xee\\xd3\\x40\\x4d\\xae\", 8, GRND_NONBLOCK) = 8\n",
    "brk(NULL)                               = 0xc599de5fc000\n",
    "brk(0xc599de61d000)                     = 0xc599de61d000\n",
    "read(3, \"Hello, world!\", 16)            = 13\n",
    "write(4, \"Hello, world!\", 13)           = 13\n",
    "close(3)                                = 0\n",
    "close(4)                                = 0\n",
    "exit_group(0)                           = ?\n",
    "+++ exited with 0 +++\n",
    "```"
   ]
  },
  {
   "cell_type": "markdown",
   "id": "b55dd6c2",
   "metadata": {},
   "source": [
    "Все упомянутые в коде сисколы были исполнены, это наглядно видно."
   ]
  },
  {
   "cell_type": "markdown",
   "id": "a732aa54",
   "metadata": {},
   "source": [
    "Как можно улучшить текущий код? Вспомним, что `read` и `write` возвращают количество обработанных байт, которое может быть меньше, чем количество запрошенных байт. Учтем это:"
   ]
  },
  {
   "cell_type": "code",
   "execution_count": 19,
   "id": "85316c72",
   "metadata": {},
   "outputs": [
    {
     "name": "stdout",
     "output_type": "stream",
     "text": [
      "#include <stdlib.h>\n",
      "#include <unistd.h>\n",
      "#include <fcntl.h>\n",
      "#include <string.h>\n",
      "\n",
      "int main() {\n",
      "    int input_fd  = open(\"/Users/k.afentev/CAOS/caos-2025/sem03-lowlevel-io-fs/input.txt\",  O_RDONLY);\n",
      "    int output_fd = open(\"/Users/k.afentev/CAOS/caos-2025/sem03-lowlevel-io-fs/output.txt\", O_WRONLY | O_TRUNC);\n",
      "\n",
      "    int buffer_size = 16;\n",
      "    char* buffer = (char*)malloc(buffer_size);\n",
      "    \n",
      "    ssize_t read_during_iteration;\n",
      "    size_t read_bytes = 0;\n",
      "    do {\n",
      "        read_during_iteration = read(input_fd, buffer + read_bytes, buffer_size - read_bytes);\n",
      "        if (read_during_iteration > 0) {\n",
      "            read_bytes += read_during_iteration;\n",
      "        }\n",
      "    } while (read_during_iteration != 0);\n",
      "\n",
      "    ssize_t written_during_iteration;\n",
      "    size_t written_bytes = 0;\n",
      "    do {\n",
      "        written_during_iteration = write(output_fd, buffer + written_bytes, read_bytes - written_bytes);\n",
      "        if (written_during_iteration > 0) {\n",
      "            written_bytes += written_during_iteration;\n",
      "        }\n",
      "    } while (written_during_iteration != 0);\n",
      "\n",
      "    close(input_fd);\n",
      "    close(output_fd);\n",
      "\n",
      "    return 0;\n",
      "}"
     ]
    }
   ],
   "source": [
    "!cat sized_io.c\n",
    "!gcc sized_io.c -o sized_io.out"
   ]
  },
  {
   "cell_type": "code",
   "execution_count": 223,
   "id": "25933c54",
   "metadata": {},
   "outputs": [],
   "source": [
    "!./sized_io.out"
   ]
  },
  {
   "cell_type": "markdown",
   "id": "df74b8ff",
   "metadata": {},
   "source": [
    "Ничего не сломалось, это хорошо.\n",
    "\n",
    "Можно ли улучшить программу еще? Да! Добавим обработку ошибок.\n",
    "\n",
    "О том, какие ошибки могут возвращать `read` и `write`, можно почитать в man-е. Нас интересует тот факт, что некоторые из этих ошибок не являются фатальными и можно попробовать повторить неудавшееся действие. А именно, нас интересуют ошибки `EINTR` и `EAGAIN`. При возникновении ошибок сисколы возвращают `-1` и проставляют информацию об ошибке в специальную переменную `errno`."
   ]
  },
  {
   "cell_type": "code",
   "execution_count": 21,
   "id": "f925b6bd",
   "metadata": {},
   "outputs": [
    {
     "name": "stdout",
     "output_type": "stream",
     "text": [
      "#include <stdlib.h>\n",
      "#include <unistd.h>\n",
      "#include <fcntl.h>\n",
      "#include <string.h>\n",
      "#include <errno.h>\n",
      "\n",
      "int main() {\n",
      "    int input_fd  = open(\"/Users/k.afentev/CAOS/caos-2025/sem03-lowlevel-io-fs/input.txt\",  O_RDONLY);\n",
      "    int output_fd = open(\"/Users/k.afentev/CAOS/caos-2025/sem03-lowlevel-io-fs/output.txt\", O_WRONLY | O_TRUNC);\n",
      "\n",
      "    int buffer_size = 16;\n",
      "    char* buffer = (char*)malloc(buffer_size);\n",
      "    \n",
      "    ssize_t read_during_iteration;\n",
      "    size_t read_bytes = 0;\n",
      "    do {\n",
      "        read_during_iteration = read(input_fd, buffer + read_bytes, buffer_size - read_bytes);\n",
      "        if ((read_during_iteration < 0) && (errno != EINTR) && (errno != EAGAIN)) {\n",
      "            return -1;\n",
      "        }\n",
      "        read_bytes += read_during_iteration;\n",
      "    } while (read_during_iteration != 0);\n",
      "\n",
      "    ssize_t written_during_iteration;\n",
      "    size_t written_bytes = 0;\n",
      "    do {\n",
      "        written_during_iteration = write(output_fd, buffer + written_bytes, read_bytes - written_bytes);\n",
      "        if ((written_during_iteration < 0) && (errno != EINTR) && (errno != EAGAIN)) {\n",
      "            return -1;\n",
      "        }\n",
      "        written_bytes += written_during_iteration;\n",
      "    } while (written_during_iteration != 0);\n",
      "\n",
      "    close(input_fd);\n",
      "    close(output_fd);\n",
      "\n",
      "    return 0;\n",
      "}"
     ]
    }
   ],
   "source": [
    "!cat error_handling_io.c \n",
    "!gcc error_handling_io.c -o error_handling_io.out "
   ]
  },
  {
   "cell_type": "code",
   "execution_count": 224,
   "id": "23793a7e",
   "metadata": {},
   "outputs": [],
   "source": [
    "!./error_handling_io.out"
   ]
  },
  {
   "cell_type": "markdown",
   "id": "dca51010",
   "metadata": {},
   "source": [
    "### Пример, демонстрирующий, что обработка таких ошибок играет значение:"
   ]
  },
  {
   "cell_type": "code",
   "execution_count": 225,
   "id": "9ac097b4",
   "metadata": {},
   "outputs": [
    {
     "name": "stdout",
     "output_type": "stream",
     "text": [
      "#include <sys/types.h>\n",
      "#include <sys/stat.h>\n",
      "#include <fcntl.h>\n",
      "#include <unistd.h>\n",
      "#include <stdio.h>\n",
      "#include <assert.h>\n",
      "\n",
      "int main(int argc, char *argv[]) {\n",
      "    char buffer[4096];\n",
      "    int bytes_read = read(STDIN_FILENO, buffer, sizeof(buffer));\n",
      "    printf(\"From stdin: '%.*s'\\n\", bytes_read, buffer); // buffer not zero-terminated string after `read`!\n",
      "    \n",
      "    return 0;\n",
      "}"
     ]
    }
   ],
   "source": [
    "!cat simple_reprinter.c \n",
    "!gcc simple_reprinter.c -o simple_reprinter.out "
   ]
  },
  {
   "cell_type": "code",
   "execution_count": 226,
   "id": "d938a46c",
   "metadata": {},
   "outputs": [
    {
     "name": "stdout",
     "output_type": "stream",
     "text": [
      "From stdin: 'Hello, '\n"
     ]
    }
   ],
   "source": [
    "!(echo -n \"Hello, \" ; sleep 1 ; echo -n \"world!\" 2>/dev/null) | ./simple_reprinter.out "
   ]
  },
  {
   "cell_type": "markdown",
   "id": "4c2b585f",
   "metadata": {},
   "source": [
    "Вывели не весь текст, потому что на момент вызова `read` он был не полностью доступен. Теперь с ретраями:"
   ]
  },
  {
   "cell_type": "code",
   "execution_count": 28,
   "id": "05800450",
   "metadata": {},
   "outputs": [
    {
     "name": "stdout",
     "output_type": "stream",
     "text": [
      "#include <sys/types.h>\n",
      "#include <sys/stat.h>\n",
      "#include <fcntl.h>\n",
      "#include <unistd.h>\n",
      "#include <stdio.h>\n",
      "#include <errno.h>\n",
      "\n",
      "int read_retry(int fd, char* data, int size) {\n",
      "    char* cdata = data;\n",
      "    while (1) {\n",
      "        int read_bytes = read(fd, cdata, size);\n",
      "        if (read_bytes == 0) { // если read вернул 0, значит файловый дескриптор закрыт с другого конца \n",
      "                               // или конец файла\n",
      "            return cdata - data;\n",
      "        }\n",
      "        if (read_bytes < 0) { // если возвращено значение < 0, то это ошибка\n",
      "            if (errno == EAGAIN || errno == EINTR) { // она может быть retryable\n",
      "                continue;\n",
      "            } else { // а может быть критичной, и нет смысла пытаться повторить попытку чтения\n",
      "                return -1;\n",
      "            }\n",
      "        }\n",
      "        // если возвращенное значение > 0, значит успешно прочитано столько байт\n",
      "        cdata += read_bytes;\n",
      "        size -= read_bytes;\n",
      "        if (size == 0) {\n",
      "            return cdata - data;\n",
      "        }\n",
      "    }\n",
      "}\n",
      "\n",
      "int main(int argc, char *argv[])\n",
      "{ \n",
      "    char buffer[4096];\n",
      "#if defined(_USE_READ) || defined(_USE_READ_RETRY)\n",
      "  #if defined(_USE_READ)\n",
      "    int bytes_read = read(0, buffer, sizeof(buffer)); \n",
      "  #endif\n",
      "  #if defined(_USE_READ_RETRY)\n",
      "    int bytes_read = read_retry(0, buffer, sizeof(buffer)); \n",
      "  #endif    \n",
      "    if (bytes_read < 0) {\n",
      "        perror(\"Error reading file\");\n",
      "        return -1;\n",
      "    }\n",
      "#endif\n",
      "#if defined(_USE_SCANF)\n",
      "    scanf(\"%s\", buffer);\n",
      "    int bytes_read = strlen(buffer);\n",
      "#endif  \n",
      "    printf(\"Read '%.*s'\", bytes_read, buffer);\n",
      "    \n",
      "    return 0;\n",
      "}"
     ]
    }
   ],
   "source": [
    "!cat smart_reprinter.c "
   ]
  },
  {
   "cell_type": "markdown",
   "id": "dbbdaa88",
   "metadata": {},
   "source": [
    "Еще раз проверим, что просто `read` не дает нужного результата:"
   ]
  },
  {
   "cell_type": "code",
   "execution_count": 227,
   "id": "7c4eca1f",
   "metadata": {},
   "outputs": [
    {
     "name": "stdout",
     "output_type": "stream",
     "text": [
      "Read 'Hello,'"
     ]
    }
   ],
   "source": [
    "!gcc smart_reprinter.c -D_USE_READ -o smart_reprinter.out\n",
    "!(echo -n \"Hello,\" ; sleep 1 ; echo -n \"world!\" 2>/dev/null) | ./smart_reprinter.out "
   ]
  },
  {
   "cell_type": "markdown",
   "id": "701c1883",
   "metadata": {},
   "source": [
    "С ретраями:"
   ]
  },
  {
   "cell_type": "code",
   "execution_count": 228,
   "id": "c1800cb7",
   "metadata": {},
   "outputs": [
    {
     "name": "stdout",
     "output_type": "stream",
     "text": [
      "Read 'Hello,world!'"
     ]
    }
   ],
   "source": [
    "!gcc smart_reprinter.c -D_USE_READ_RETRY -o smart_reprinter.out\n",
    "!(echo -n \"Hello,\" ; sleep 1 ; echo -n \"world!\" 2>/dev/null) | ./smart_reprinter.out "
   ]
  },
  {
   "cell_type": "markdown",
   "id": "d0856c56",
   "metadata": {},
   "source": [
    "Как ведет себя `scanf`?🤔"
   ]
  },
  {
   "cell_type": "code",
   "execution_count": 229,
   "id": "33b33e59",
   "metadata": {},
   "outputs": [
    {
     "name": "stdout",
     "output_type": "stream",
     "text": [
      "Read 'Hello,world!'"
     ]
    }
   ],
   "source": [
    "!gcc smart_reprinter.c -D_USE_SCANF -o smart_reprinter.out\n",
    "!(echo -n \"Hello,\" ; sleep 1 ; echo -n \"world!\" 2>/dev/null) | ./smart_reprinter.out "
   ]
  },
  {
   "cell_type": "markdown",
   "id": "eb6debaa",
   "metadata": {},
   "source": [
    "Видим, что `scanf` молодец. Не забываем ретраить такие ошибки."
   ]
  },
  {
   "cell_type": "markdown",
   "id": "c14bad57",
   "metadata": {},
   "source": [
    "Какие есть еще полезности:\n",
    "1. `pread/pwrite` - чтение и запись по смещению\n",
    "2. `readv/writev` - работа с несколькими буферами одновременно \n",
    "3. `cmd1 9>&1 cmd2` - \"связали\" файловый дескриптор 1 (stdout) cmd2 и файловый дескриптор 9 cmd1. Можно использовать с любыми fd"
   ]
  },
  {
   "cell_type": "markdown",
   "id": "888e58ea",
   "metadata": {},
   "source": [
    "### О производительности"
   ]
  },
  {
   "cell_type": "markdown",
   "id": "82780a94",
   "metadata": {},
   "source": [
    "Возьмем файл, в котором 1m строк и программу, которая будет читать их и отправлять в stdout."
   ]
  },
  {
   "cell_type": "code",
   "execution_count": 230,
   "id": "6479b100",
   "metadata": {},
   "outputs": [],
   "source": [
    "import random\n",
    "import string\n",
    "\n",
    "chars_per_line = 5\n",
    "\n",
    "with open(\"huge_file.txt\", 'w') as output:\n",
    "    lines = (''.join(random.sample(string.ascii_lowercase, chars_per_line)) for _ in range(1_000_000))\n",
    "    print(\"\\n\".join(lines), file=output)"
   ]
  },
  {
   "cell_type": "code",
   "execution_count": 231,
   "id": "d1e2d802",
   "metadata": {},
   "outputs": [
    {
     "name": "stdout",
     "output_type": "stream",
     "text": [
      "nohva\n",
      "fdoxe\n",
      "dtqfp\n"
     ]
    }
   ],
   "source": [
    "!head -n 3 huge_file.txt"
   ]
  },
  {
   "cell_type": "code",
   "execution_count": 97,
   "id": "a37f2257",
   "metadata": {},
   "outputs": [
    {
     "name": "stdout",
     "output_type": "stream",
     "text": [
      "#include <stdio.h>\n",
      "#include <stdlib.h>\n",
      "#include <unistd.h>\n",
      "#include <fcntl.h>\n",
      "#include <string.h>\n",
      "\n",
      "void printf_impl(FILE* source) {\n",
      "    char* line = NULL;\n",
      "    size_t len = 0;\n",
      "    ssize_t read;\n",
      "    while ((read = getline(&line, &len, source)) != -1) {\n",
      "        printf(\"%s\", line);\n",
      "    }\n",
      "\n",
      "    if (line) {\n",
      "        free(line);\n",
      "    }\n",
      "}\n",
      "\n",
      "void write_impl(FILE* source) {\n",
      "    char* line = NULL;\n",
      "    size_t len = 0;\n",
      "    ssize_t read;\n",
      "    while ((read = getline(&line, &len, source)) != -1) {\n",
      "        write(STDOUT_FILENO, line, len);\n",
      "    }\n",
      "\n",
      "    if (line) {\n",
      "        free(line);\n",
      "    }\n",
      "}\n",
      "\n",
      "int main() {\n",
      "    FILE* file = fopen(\"/Users/k.afentev/CAOS/caos-2025/sem03-lowlevel-io-fs/huge_file.txt\", \"r\");\n",
      "\n",
      "#if defined(_USE_PRINTF)\n",
      "    printf_impl(file);\n",
      "#endif\n",
      "#if defined(_USE_WRITE)\n",
      "    write_impl(file);\n",
      "#endif\n",
      "\n",
      "    fclose(file);\n",
      "    \n",
      "    return 0;\n",
      "}\n"
     ]
    }
   ],
   "source": [
    "!cat perf.c"
   ]
  },
  {
   "cell_type": "code",
   "execution_count": 232,
   "id": "47017cdc",
   "metadata": {},
   "outputs": [
    {
     "name": "stdout",
     "output_type": "stream",
     "text": [
      "./perf.out > /dev/null  0.07s user 0.01s system 20% cpu 0.390 total\n"
     ]
    }
   ],
   "source": [
    "!gcc perf.c -D_USE_PRINTF -o perf.out \n",
    "!time ./perf.out > /dev/null"
   ]
  },
  {
   "cell_type": "code",
   "execution_count": 233,
   "id": "2845f0a3",
   "metadata": {},
   "outputs": [
    {
     "name": "stdout",
     "output_type": "stream",
     "text": [
      "./perf.out > /dev/null  0.15s user 2.43s system 93% cpu 2.765 total\n"
     ]
    }
   ],
   "source": [
    "!gcc perf.c -D_USE_WRITE -o perf.out \n",
    "!time ./perf.out > /dev/null"
   ]
  },
  {
   "cell_type": "markdown",
   "id": "d97c4aed",
   "metadata": {},
   "source": [
    "> Наша реализация получилась медленнее в 15 раз. Почему?\n",
    "\n",
    "**Ответ**: сисколы в целом - дорогая операция. Для того, чтобы она совершилась, процесс ставится на паузу и исполнение передается ядру. Это все занимает много времени. Поэтому глобальная идея: сисколы довольно непроизводительны, и если важен performance, можно рассмотреть возможность уменьшения их количества. Стандартные функции ввода/вывода из этих соображений буферизуют данные.\n"
   ]
  },
  {
   "cell_type": "markdown",
   "id": "87a1dfc9",
   "metadata": {},
   "source": [
    "Количество сисколов `write` в программе с `printf`:\n",
    "```c\n",
    "(strace -e write ./perf.out > /dev/null) 2>&1 >/dev/null | wc -l\n",
    "1465\n",
    "```\n",
    "\n",
    "И в программе с ручными вызовами `write`:\n",
    "```c\n",
    "(strace -e write ./perf.out > /dev/null) 2>&1 >/dev/null | wc -l\n",
    "1000000\n",
    "```"
   ]
  },
  {
   "cell_type": "markdown",
   "id": "a4ab65ac",
   "metadata": {},
   "source": [
    "Напишем свой буфферизованный вывод"
   ]
  },
  {
   "cell_type": "code",
   "execution_count": 219,
   "id": "57878ed2",
   "metadata": {},
   "outputs": [
    {
     "name": "stdout",
     "output_type": "stream",
     "text": [
      "#include <stdio.h>\n",
      "#include <stdlib.h>\n",
      "#include <unistd.h>\n",
      "#include <fcntl.h>\n",
      "#include <string.h>\n",
      "#include <errno.h>\n",
      "\n",
      "int write_retry(int fd, char* data, int size) {\n",
      "    char* cdata = data;\n",
      "    while (1) {\n",
      "        int written_bytes = write(fd, cdata, size);\n",
      "        if (written_bytes == 0) { // если write вернул 0, значит файловый дескриптор закрыт с другого конца \n",
      "                                  // или конец файла\n",
      "            return cdata - data;\n",
      "        }\n",
      "        if (written_bytes < 0) { // если возвращено значение < 0, то это ошибка\n",
      "            if (errno == EAGAIN || errno == EINTR) { // она может быть retryable\n",
      "                continue;\n",
      "            } else { // а может быть критичной, и нет смысла пытаться повторить попытку чтения\n",
      "                return -1;\n",
      "            }\n",
      "        }\n",
      "        // если возвращенное значение > 0, значит успешно прочитано столько байт\n",
      "        cdata += written_bytes;\n",
      "        size -= written_bytes;\n",
      "        if (size == 0) {\n",
      "            return cdata - data;\n",
      "        }\n",
      "    }\n",
      "}\n",
      "\n",
      "struct BufferedWriter {\n",
      "    int fd;\n",
      "    size_t capacity;\n",
      "    size_t size;\n",
      "    char* buffer;\n",
      "} s;\n",
      "\n",
      "void init_buffer(struct BufferedWriter* writer, size_t capacity, int fd) {\n",
      "    char* buffer = (char*)malloc(capacity);\n",
      "\n",
      "    writer->capacity = capacity;\n",
      "    writer->size = 0;\n",
      "    writer->buffer = buffer;\n",
      "    writer->fd = fd;\n",
      "}\n",
      "\n",
      "void close_buffer(struct BufferedWriter* writer) {\n",
      "    if (writer->size > 0) {\n",
      "        write_retry(writer->fd, writer->buffer, writer->size);\n",
      "    }\n",
      "    free(writer->buffer);\n",
      "}\n",
      "\n",
      "void buffered_write(struct BufferedWriter* writer, char* string) {\n",
      "    size_t len = strlen(string);\n",
      "    if (len + writer->size > writer->capacity) {\n",
      "        size_t first_part = writer->capacity - writer->size;\n",
      "        memcpy(writer->buffer + writer->size, string, first_part);\n",
      "        write_retry(writer->fd, writer->buffer, writer->capacity);\n",
      "        memcpy(writer->buffer, string + first_part, len - first_part);\n",
      "        writer->size = len - first_part;\n",
      "    } else {\n",
      "        memcpy(writer->buffer + writer->size, string, len);\n",
      "        writer->size += len;\n",
      "    }\n",
      "}\n",
      "\n",
      "void write_impl(FILE* source) {\n",
      "    struct BufferedWriter writer;\n",
      "    size_t capacity = 1024 * 1024;  // 1MB\n",
      "    init_buffer(&writer, capacity, STDOUT_FILENO);\n",
      "\n",
      "    char* line = NULL;\n",
      "    size_t len = 0;\n",
      "    ssize_t read;\n",
      "    while ((read = getline(&line, &len, source)) != -1) {\n",
      "        buffered_write(&writer, line);\n",
      "    }\n",
      "\n",
      "    if (line) {\n",
      "        free(line);\n",
      "    }\n",
      "\n",
      "    close_buffer(&writer);\n",
      "}\n",
      "\n",
      "int main() {\n",
      "    FILE* file = fopen(\"/Users/k.afentev/CAOS/caos-2025/sem03-lowlevel-io-fs/huge_file.txt\", \"r\");\n",
      "\n",
      "    write_impl(file);\n",
      "\n",
      "    fclose(file);\n",
      "    \n",
      "    return 0;\n",
      "}\n"
     ]
    }
   ],
   "source": [
    "!cat buffered_perf.c"
   ]
  },
  {
   "cell_type": "code",
   "execution_count": 220,
   "id": "8b9cc0c1",
   "metadata": {},
   "outputs": [
    {
     "name": "stdout",
     "output_type": "stream",
     "text": [
      "./buffered_perf.out > /dev/null  0.03s user 0.00s system 18% cpu 0.177 total\n"
     ]
    }
   ],
   "source": [
    "!gcc buffered_perf.c -o buffered_perf.out\n",
    "!time ./buffered_perf.out > /dev/null"
   ]
  },
  {
   "cell_type": "markdown",
   "id": "389bcf7f",
   "metadata": {},
   "source": [
    "```c\n",
    "(strace -e write ./perf.out > /dev/null) 2>&1 >/dev/null | wc -l\n",
    "6\n",
    "```"
   ]
  },
  {
   "cell_type": "markdown",
   "id": "dd18f4b5",
   "metadata": {},
   "source": [
    "### Курсор"
   ]
  },
  {
   "cell_type": "markdown",
   "id": "56b1c5b6",
   "metadata": {},
   "source": [
    "Когда вы читаете/пишите в файлы через файловые дескрипторы, операционная система поддерживает текущую позицию \"курсора\" - того места, с которым вы работаете. Чтобы читать/писать без оглядки на курсор, можно использовать `pread/pwrite`. Для работы непосредственно с курсором есть `lseek`."
   ]
  },
  {
   "cell_type": "code",
   "execution_count": 205,
   "id": "fcc58879",
   "metadata": {},
   "outputs": [
    {
     "name": "stdout",
     "output_type": "stream",
     "text": [
      "#include <assert.h>\n",
      "#include <errno.h>\n",
      "#include <fcntl.h>\n",
      "#include <stdio.h>\n",
      "#include <unistd.h>\n",
      "\n",
      "int main() {\n",
      "    int fd = open(\"input.txt\", O_RDONLY);\n",
      "    \n",
      "    lseek(fd, 7, SEEK_SET);\n",
      "    \n",
      "    char buff[1];\n",
      "    read(fd, &buff, sizeof(buff));\n",
      "\n",
      "    write(STDOUT_FILENO, buff, sizeof(buff));\n",
      "    close(fd);\n",
      "\n",
      "    return 0;\n",
      "}\n",
      "\n"
     ]
    }
   ],
   "source": [
    "!cat lseek_demo.c\n",
    "!gcc lseek_demo.c -o lseek_demo.out"
   ]
  },
  {
   "cell_type": "code",
   "execution_count": 206,
   "id": "47188071",
   "metadata": {},
   "outputs": [
    {
     "name": "stdout",
     "output_type": "stream",
     "text": [
      "w"
     ]
    }
   ],
   "source": [
    "!./lseek_demo.out"
   ]
  },
  {
   "cell_type": "markdown",
   "id": "6595254e",
   "metadata": {},
   "source": [
    "## Подробнее о файлах"
   ]
  },
  {
   "cell_type": "markdown",
   "id": "b619f2bc",
   "metadata": {},
   "source": [
    "Что такое файл?"
   ]
  },
  {
   "cell_type": "markdown",
   "id": "ead6b852",
   "metadata": {},
   "source": [
    ".\n",
    "\n",
    ".\n",
    "\n",
    ".\n",
    "\n",
    "🌈Everything is a file🌈"
   ]
  },
  {
   "cell_type": "markdown",
   "id": "d8d8ded0",
   "metadata": {},
   "source": [
    "<img src=\"everything_is_a_file.webp\" alt=\"everything_is_a_file\" width=\"500\"/>"
   ]
  },
  {
   "cell_type": "markdown",
   "id": "8dcf3250",
   "metadata": {},
   "source": [
    "Идея в том, что в Linux применен архитектурный подход, согласно которому очень многие вещи представлены в виде сущностей, схожих с файлами. Например, директории, процессы, внешние устройства, сокеты, ...\n",
    "\n",
    "* Everything is a file\n",
    "* Everything is a file descriptor\n",
    "* Everything is a stream of bytes\n",
    "* Everything has a file\n",
    "* ...\n",
    "\n",
    "Если всё - это файл, то что такое файл? Остановимся на том, что файл - это то, у чего есть `inode`. "
   ]
  },
  {
   "cell_type": "markdown",
   "id": "12747f9e",
   "metadata": {},
   "source": [
    "inode - сущность в ядре, в которой хранится вся (мета)информация о файле (название и само содержимое файла там отсутствуют).\n",
    "\n",
    "<img src=\"inode_ext4.jpg\" alt=\"inode\" width=\"600\"/>"
   ]
  },
  {
   "cell_type": "markdown",
   "id": "3e716ce4",
   "metadata": {},
   "source": [
    "Часть информации о ней можно извлечь в виде структуры `stat` через одноименный системный вызов:\n",
    "\n",
    "```c\n",
    "struct stat {\n",
    "   dev_t     st_dev;         /* ID of device containing file */\n",
    "   ino_t     st_ino;         /* Inode number */\n",
    "   mode_t    st_mode;        /* File type and mode */\n",
    "   nlink_t   st_nlink;       /* Number of hard links */\n",
    "   uid_t     st_uid;         /* User ID of owner */\n",
    "   gid_t     st_gid;         /* Group ID of owner */\n",
    "   dev_t     st_rdev;        /* Device ID (if special file) */\n",
    "   off_t     st_size;        /* Total size, in bytes */\n",
    "   blksize_t st_blksize;     /* Block size for filesystem I/O */\n",
    "   blkcnt_t  st_blocks;      /* Number of 512B blocks allocated */\n",
    "\n",
    "   struct timespec st_atim;  /* Time of last access */\n",
    "   struct timespec st_mtim;  /* Time of last modification */\n",
    "   struct timespec st_ctim;  /* Time of last status change */\n",
    "\n",
    "   /* Backward compatibility */\n",
    "   #define st_atime st_atim.tv_sec      \n",
    "   #define st_mtime st_mtim.tv_sec\n",
    "   #define st_ctime st_ctim.tv_sec\n",
    "};\n",
    "```\n",
    "\n",
    "\n",
    "```c\n",
    "int (l)stat(const char *file_name, struct stat *stat_buffer)\n",
    "```"
   ]
  },
  {
   "cell_type": "markdown",
   "id": "617297bb",
   "metadata": {},
   "source": [
    "`inode` - абстракция уровня файловой системы. Внутри одной файловой системы номера `inode` (`st_ino`) уникальны."
   ]
  },
  {
   "cell_type": "markdown",
   "id": "a286bf88",
   "metadata": {},
   "source": [
    "Посмотрим на устройство этой структуры на примере поля `.st_mode`: там лежит число, в бинарном представлении которого зашита информация о типе файлах и правах доступа. \n",
    "\n",
    "Биты соответствующие маскам:\n",
    "\n",
    "`0170000` (`0b1111000000000`) - тип файла.\n",
    "\n",
    "Эти биты стоит рассматривать как одно число, по значению которого можно определить тип файла, сравнивая это число с:\n",
    "\n",
    "```c\n",
    "S_IFSOCK 0140000 socket\n",
    "S_IFLNK  0120000 symbolic link\n",
    "S_IFREG  0100000 regular file\n",
    "S_IFBLK  0060000 block device\n",
    "S_IFDIR  0040000 directory\n",
    "S_IFCHR  0020000 character device\n",
    "S_IFIFO  0010000 FIFO\n",
    "```\n",
    "\n",
    "`0777` (`0b111111111`) - права на файл.\n",
    "\n",
    "> Эти биты можно рассматривать как независимые биты, каджый из которых отвечает за право (пользователя, его группы, всех остальных) (читать/писать/выполнять) файл."
   ]
  },
  {
   "cell_type": "markdown",
   "id": "ca0116b6",
   "metadata": {},
   "source": [
    "Попробуем извлечь какую-нибудь информация о файле через `stat`:"
   ]
  },
  {
   "cell_type": "code",
   "execution_count": 168,
   "id": "71b3803d",
   "metadata": {},
   "outputs": [
    {
     "name": "stdout",
     "output_type": "stream",
     "text": [
      "#include <sys/types.h>\n",
      "#include <sys/stat.h>\n",
      "#include <fcntl.h>\n",
      "#include <unistd.h>\n",
      "#include <stdio.h>\n",
      "#include <assert.h>\n",
      "\n",
      "int main(int argc, char *argv[]) {\n",
      "    assert(argc > 1);\n",
      "\n",
      "    struct stat s;\n",
      "    int result = stat(argv[1], &s);\n",
      "    if (result != 0) {\n",
      "        printf(\"stat failed\\n\");\n",
      "        return 1;\n",
      "    }\n",
      "    printf(\"is regular: %s    \", ((s.st_mode & S_IFMT) == S_IFREG) ? \"yes\" : \"no \"); // can use predefined mask\n",
      "    printf(\"is directory: %s    \", S_ISDIR(s.st_mode) ? \"yes\" : \"no \"); // or predefined macro\n",
      "    printf(\"is symbolic link: %s\\n\", S_ISLNK(s.st_mode) ? \"yes\" : \"no \"); \n",
      "    return 0;\n",
      "}"
     ]
    }
   ],
   "source": [
    "!cat basic_stat.c \n",
    "!gcc basic_stat.c -o basic_stat.out"
   ]
  },
  {
   "cell_type": "code",
   "execution_count": 110,
   "id": "3c09954a",
   "metadata": {},
   "outputs": [
    {
     "name": "stdout",
     "output_type": "stream",
     "text": [
      "is regular: yes    is directory: no     is symbolic link: no \n"
     ]
    }
   ],
   "source": [
    "!./basic_stat.out /Users/k.afentev/CAOS/caos-2025/sem03-lowlevel-io-fs/huge_file.txt"
   ]
  },
  {
   "cell_type": "code",
   "execution_count": 111,
   "id": "91c813e8",
   "metadata": {},
   "outputs": [
    {
     "name": "stdout",
     "output_type": "stream",
     "text": [
      "is regular: no     is directory: yes    is symbolic link: no \n"
     ]
    }
   ],
   "source": [
    "!./basic_stat.out /Users/k.afentev/CAOS/caos-2025/sem03-lowlevel-io-fs"
   ]
  },
  {
   "cell_type": "markdown",
   "id": "fd9fe9ad",
   "metadata": {},
   "source": [
    "Что такое ссылка и символическая ссылка? Как следует из названия, это \"ссылки\" на другой файл\n",
    "\n",
    "(Жесткая) ссылка на файл - это файл, имеющий под собой ту же самую `indode`, что и оригинальный файл. Таким образом, при изменении названия/содержимого файлов, эти изменения будут отражены и в оригинальном файле, и в (жесткой) ссылке на него. При удалении файла содержимое удаляется, если количество жестких ссылок стало равно 0.\n",
    "\n",
    "Символическая ссылка на файл - это файл, имеющий свою собственную `inode`, внутри которого указан *путь* к оригинальному файлу. При работе с символической ссылкой происходит её резолвинг с последующим доступом к оригинальному файлу. Если оригинальный файл будет удален/перемещен, символическая ссылка станет \"провисшей\". "
   ]
  },
  {
   "cell_type": "markdown",
   "id": "fcbcd427",
   "metadata": {},
   "source": [
    "<img src=\"links.jpg\" alt=\"hard & symbolic\" width=\"600\"/>"
   ]
  },
  {
   "cell_type": "markdown",
   "id": "9dd636df",
   "metadata": {},
   "source": [
    "Поиграем с этими ссылками. Создадим файл и жесткую ссылку на него"
   ]
  },
  {
   "cell_type": "code",
   "execution_count": 134,
   "id": "84fcc28e",
   "metadata": {},
   "outputs": [
    {
     "name": "stdout",
     "output_type": "stream",
     "text": [
      "Hello, world!\n",
      "total 16\n",
      "9294521 -rw-r--r--@ 2 k.afentev  wheel  14 Sep 27 11:31 sample_file.txt\n",
      "9294521 -rw-r--r--@ 2 k.afentev  wheel  14 Sep 27 11:31 sample_file_hard.txt\n"
     ]
    }
   ],
   "source": [
    "!rm -r /tmp/caos\n",
    "!mkdir /tmp/caos\n",
    "!echo \"Hello, world!\" > /tmp/caos/sample_file.txt\n",
    "!cat /tmp/caos/sample_file.txt\n",
    "!ln /tmp/caos/sample_file.txt /tmp/caos/sample_file_hard.txt\n",
    "!ls -li /tmp/caos"
   ]
  },
  {
   "cell_type": "markdown",
   "id": "10546efc",
   "metadata": {},
   "source": [
    "inode соответствуют ожиданиям"
   ]
  },
  {
   "cell_type": "code",
   "execution_count": 135,
   "id": "d299c970",
   "metadata": {},
   "outputs": [
    {
     "name": "stdout",
     "output_type": "stream",
     "text": [
      "total 24\n",
      "9294526 -rw-r--r--@ 1 k.afentev  wheel  14 Sep 27 11:31 other_sample_file.txt\n",
      "9294521 -rw-r--r--@ 2 k.afentev  wheel  14 Sep 27 11:31 sample_file.txt\n",
      "9294521 -rw-r--r--@ 2 k.afentev  wheel  14 Sep 27 11:31 sample_file_hard.txt\n"
     ]
    }
   ],
   "source": [
    "!echo \"Hello, world!\" > /tmp/caos/other_sample_file.txt\n",
    "!ls -li /tmp/caos"
   ]
  },
  {
   "cell_type": "markdown",
   "id": "765bf659",
   "metadata": {},
   "source": [
    "Изменения, внесенные в жесткую ссылку, отражены в оригинальном файле"
   ]
  },
  {
   "cell_type": "code",
   "execution_count": 136,
   "id": "c013d925",
   "metadata": {},
   "outputs": [
    {
     "name": "stdout",
     "output_type": "stream",
     "text": [
      "Hello, world!\n",
      "\n",
      "Hello from hardlink\n"
     ]
    }
   ],
   "source": [
    "!echo \"\\nHello from hardlink\" >> /tmp/caos/sample_file_hard.txt\n",
    "!cat /tmp/caos/sample_file.txt"
   ]
  },
  {
   "cell_type": "markdown",
   "id": "9a5e5c06",
   "metadata": {},
   "source": [
    "Создадим символическую ссылку, у нее свой inode"
   ]
  },
  {
   "cell_type": "code",
   "execution_count": 137,
   "id": "4db30edc",
   "metadata": {},
   "outputs": [
    {
     "name": "stdout",
     "output_type": "stream",
     "text": [
      "total 24\n",
      "9294526 -rw-r--r--@ 1 k.afentev  wheel  14 Sep 27 11:31 other_sample_file.txt\n",
      "9294521 -rw-r--r--@ 2 k.afentev  wheel  35 Sep 27 11:31 sample_file.txt\n",
      "9294521 -rw-r--r--@ 2 k.afentev  wheel  35 Sep 27 11:31 sample_file_hard.txt\n",
      "9294530 lrwxr-xr-x@ 1 k.afentev  wheel  25 Sep 27 11:31 \u001b[35msample_file_symlink.txt\u001b[m\u001b[m -> /tmp/caos/sample_file.txt\n"
     ]
    }
   ],
   "source": [
    "!ln -s /tmp/caos/sample_file.txt /tmp/caos/sample_file_symlink.txt\n",
    "!ls -li /tmp/caos"
   ]
  },
  {
   "cell_type": "markdown",
   "id": "a8a55476",
   "metadata": {},
   "source": [
    "`cat` по символической ссылке вывел содержимое исходного файла, так как он \"прошелся\" по символической ссылке"
   ]
  },
  {
   "cell_type": "code",
   "execution_count": 138,
   "id": "20568403",
   "metadata": {},
   "outputs": [
    {
     "name": "stdout",
     "output_type": "stream",
     "text": [
      "Hello, world!\n",
      "\n",
      "Hello from hardlink\n"
     ]
    }
   ],
   "source": [
    "!cat /tmp/caos/sample_file_symlink.txt"
   ]
  },
  {
   "cell_type": "markdown",
   "id": "9a36fe04",
   "metadata": {},
   "source": [
    "Изменения, внесенные по символической ссылке, отражены в оригинальном файле"
   ]
  },
  {
   "cell_type": "code",
   "execution_count": 139,
   "id": "b8b6fc92",
   "metadata": {},
   "outputs": [
    {
     "name": "stdout",
     "output_type": "stream",
     "text": [
      "Hello, world!\n",
      "\n",
      "Hello from hardlink\n",
      "\n",
      "And from symlink!\n"
     ]
    }
   ],
   "source": [
    "!echo \"\\nAnd from symlink!\" >> /tmp/caos/sample_file_symlink.txt\n",
    "!cat /tmp/caos/sample_file.txt"
   ]
  },
  {
   "cell_type": "markdown",
   "id": "c23f6855",
   "metadata": {},
   "source": [
    "Переименуем оригинальный файл. Жесткая ссылка от этого не пострадает, а вот символическая сломается"
   ]
  },
  {
   "cell_type": "code",
   "execution_count": 140,
   "id": "567dd547",
   "metadata": {},
   "outputs": [
    {
     "name": "stdout",
     "output_type": "stream",
     "text": [
      "Hello, world!\n",
      "\n",
      "Hello from hardlink\n",
      "\n",
      "And from symlink!\n"
     ]
    }
   ],
   "source": [
    "!mv /tmp/caos/sample_file.txt /tmp/caos/moved_file.txt\n",
    "!cat /tmp/caos/sample_file_hard.txt"
   ]
  },
  {
   "cell_type": "code",
   "execution_count": 143,
   "id": "455953f5",
   "metadata": {},
   "outputs": [
    {
     "name": "stdout",
     "output_type": "stream",
     "text": [
      "cat: /tmp/caos/sample_file_symlink.txt: No such file or directory\n"
     ]
    }
   ],
   "source": [
    "!cat /tmp/caos/sample_file_symlink.txt"
   ]
  },
  {
   "cell_type": "code",
   "execution_count": 142,
   "id": "be8d5563",
   "metadata": {},
   "outputs": [
    {
     "name": "stdout",
     "output_type": "stream",
     "text": [
      "total 24\n",
      "9294521 -rw-r--r--@ 2 k.afentev  wheel  54 Sep 27 11:31 moved_file.txt\n",
      "9294526 -rw-r--r--@ 1 k.afentev  wheel  14 Sep 27 11:31 other_sample_file.txt\n",
      "9294521 -rw-r--r--@ 2 k.afentev  wheel  54 Sep 27 11:31 sample_file_hard.txt\n",
      "9294530 lrwxr-xr-x@ 1 k.afentev  wheel  25 Sep 27 11:31 \u001b[35msample_file_symlink.txt\u001b[m\u001b[m -> /tmp/caos/sample_file.txt\n"
     ]
    }
   ],
   "source": [
    "!ls -li /tmp/caos"
   ]
  },
  {
   "cell_type": "markdown",
   "id": "98ffece2",
   "metadata": {},
   "source": [
    "Попробуем поиграть с директориями:"
   ]
  },
  {
   "cell_type": "markdown",
   "id": "0a36cef6",
   "metadata": {},
   "source": [
    "Создать жесткую ссылку на директорию не получается:"
   ]
  },
  {
   "cell_type": "code",
   "execution_count": 152,
   "id": "3f306490",
   "metadata": {},
   "outputs": [
    {
     "name": "stdout",
     "output_type": "stream",
     "text": [
      "ln: /tmp/caos: Is a directory\n"
     ]
    }
   ],
   "source": [
    "!ln /tmp/caos /tmp/caos2.0"
   ]
  },
  {
   "cell_type": "markdown",
   "id": "9b6a1168",
   "metadata": {},
   "source": [
    "Почему?\n",
    "\n",
    "Символическую ссылку создать можно"
   ]
  },
  {
   "cell_type": "code",
   "execution_count": 153,
   "id": "12bba711",
   "metadata": {},
   "outputs": [],
   "source": [
    "!ln -s /tmp/caos /tmp/caos2.0symlink"
   ]
  },
  {
   "cell_type": "code",
   "execution_count": 161,
   "id": "ecd62096",
   "metadata": {},
   "outputs": [
    {
     "name": "stdout",
     "output_type": "stream",
     "text": [
      "moved_file.txt          sample_file_hard.txt\n",
      "other_sample_file.txt   \u001b[35msample_file_symlink.txt\u001b[m\u001b[m\n"
     ]
    }
   ],
   "source": [
    "!ls -H /tmp/caos2.0symlink\n",
    "#   -H      Symbolic links on the command line are followed."
   ]
  },
  {
   "cell_type": "markdown",
   "id": "a99885f7",
   "metadata": {},
   "source": [
    "На самом деле жесткие ссылки на директории бывают\n",
    "\n",
    "<img src=\"academic_meme.webp\" alt=\"This is all hypothetical isn't it, Tom?\" width=\"400\"/>"
   ]
  },
  {
   "cell_type": "code",
   "execution_count": null,
   "id": "6c9bbd7f",
   "metadata": {},
   "outputs": [
    {
     "name": "stdout",
     "output_type": "stream",
     "text": [
      "total 24\n",
      "9294519 drwxr-xr-x@   6 k.afentev  wheel    192 Sep 27 11:32 \u001b[34m.\u001b[m\u001b[m\n",
      "6277594 drwxrwxrwt  448 root       wheel  14336 Sep 27 11:38 \u001b[30m\u001b[42m..\u001b[m\u001b[m\n",
      "9294521 -rw-r--r--@   2 k.afentev  wheel     54 Sep 27 11:31 moved_file.txt\n",
      "9294526 -rw-r--r--@   1 k.afentev  wheel     14 Sep 27 11:31 other_sample_file.txt\n",
      "9294521 -rw-r--r--@   2 k.afentev  wheel     54 Sep 27 11:31 sample_file_hard.txt\n",
      "9294530 lrwxr-xr-x@   1 k.afentev  wheel     25 Sep 27 11:31 \u001b[35msample_file_symlink.txt\u001b[m\u001b[m -> /tmp/caos/sample_file.txt\n"
     ]
    }
   ],
   "source": [
    "!ls -lia /tmp/caos"
   ]
  },
  {
   "cell_type": "code",
   "execution_count": 151,
   "id": "48fe44ab",
   "metadata": {},
   "outputs": [
    {
     "name": "stdout",
     "output_type": "stream",
     "text": [
      "9294519 drwxr-xr-x@ 6 k.afentev  wheel  192 Sep 27 11:32 \u001b[34m/tmp/caos\u001b[m\u001b[m\n"
     ]
    }
   ],
   "source": [
    "!ls -dlia /tmp/caos"
   ]
  },
  {
   "cell_type": "markdown",
   "id": "aaa77029",
   "metadata": {},
   "source": [
    "`.` и `..` - это жесткие ссылки на директории.\n",
    "\n",
    "Создадим пустую директорию:"
   ]
  },
  {
   "cell_type": "code",
   "execution_count": null,
   "id": "0cece560",
   "metadata": {},
   "outputs": [
    {
     "name": "stdout",
     "output_type": "stream",
     "text": [
      "rm: tmp: is a directory\n",
      "mkdir: tmp: File exists\n",
      "stat: illegal option -- c\n",
      "usage: stat [-FLnq] [-f format | -l | -r | -s | -x] [-t timefmt] [file ...]\n"
     ]
    }
   ],
   "source": [
    "!rm tmp\n",
    "!mkdir tmp\n",
    "!stat -c %h tmp"
   ]
  },
  {
   "cell_type": "markdown",
   "id": "e8e22190",
   "metadata": {},
   "source": [
    "```c\n",
    "2\n",
    "```"
   ]
  },
  {
   "cell_type": "code",
   "execution_count": 165,
   "id": "714be42f",
   "metadata": {},
   "outputs": [
    {
     "name": "stdout",
     "output_type": "stream",
     "text": [
      "stat: illegal option -- c\n",
      "usage: stat [-FLnq] [-f format | -l | -r | -s | -x] [-t timefmt] [file ...]\n"
     ]
    }
   ],
   "source": [
    "!mkdir tmp/tmp2\n",
    "!stat -c %h tmp"
   ]
  },
  {
   "cell_type": "markdown",
   "id": "d85fa833",
   "metadata": {},
   "source": [
    "```c\n",
    "3\n",
    "```"
   ]
  },
  {
   "cell_type": "markdown",
   "id": "17f5a5cb",
   "metadata": {},
   "source": [
    "### Вернемся к `stat`"
   ]
  },
  {
   "cell_type": "code",
   "execution_count": 171,
   "id": "e0fe8506",
   "metadata": {},
   "outputs": [
    {
     "name": "stdout",
     "output_type": "stream",
     "text": [
      "is regular: yes    is directory: no     is symbolic link: no \n"
     ]
    }
   ],
   "source": [
    "!./basic_stat.out /tmp/caos/sample_file_symlink.txt"
   ]
  },
  {
   "cell_type": "markdown",
   "id": "cb9c7dc1",
   "metadata": {},
   "source": [
    "Почему `stat` упал? Потому что симлинк провис. Исправим это и попробуем снова:"
   ]
  },
  {
   "cell_type": "code",
   "execution_count": 178,
   "id": "15881126",
   "metadata": {},
   "outputs": [
    {
     "name": "stdout",
     "output_type": "stream",
     "text": [
      "mv: /tmp/caos/moved_file.txt: No such file or directory\n",
      "is regular: yes    is directory: no     is symbolic link: no \n",
      "is regular: no     is directory: yes    is symbolic link: no \n"
     ]
    }
   ],
   "source": [
    "!mv /tmp/caos/moved_file.txt /tmp/caos/sample_file.txt\n",
    "!./basic_stat.out /tmp/caos/sample_file_symlink.txt\n",
    "!./basic_stat.out /tmp/caos2.0symlink"
   ]
  },
  {
   "cell_type": "markdown",
   "id": "583a1941",
   "metadata": {},
   "source": [
    "Что не так на этот раз? Дело в том, что `stat` проходит по симлинкам и возвращает информация сразу для целевого файла. Чтобы этого не происходило, есть `lstat`:"
   ]
  },
  {
   "cell_type": "code",
   "execution_count": 174,
   "id": "6f860eaf",
   "metadata": {},
   "outputs": [
    {
     "name": "stdout",
     "output_type": "stream",
     "text": [
      "#include <sys/types.h>\n",
      "#include <sys/stat.h>\n",
      "#include <fcntl.h>\n",
      "#include <unistd.h>\n",
      "#include <stdio.h>\n",
      "#include <assert.h>\n",
      "\n",
      "int main(int argc, char *argv[]) {\n",
      "    assert(argc > 1);\n",
      "\n",
      "    struct stat s;\n",
      "    int result = lstat(argv[1], &s);\n",
      "    if (result != 0) {\n",
      "        printf(\"lstat failed\\n\");\n",
      "        return 1;\n",
      "    }\n",
      "    printf(\"is regular: %s    \", ((s.st_mode & S_IFMT) == S_IFREG) ? \"yes\" : \"no \"); // can use predefined mask\n",
      "    printf(\"is directory: %s    \", S_ISDIR(s.st_mode) ? \"yes\" : \"no \"); // or predefined macro\n",
      "    printf(\"is symbolic link: %s\\n\", S_ISLNK(s.st_mode) ? \"yes\" : \"no \"); \n",
      "    return 0;\n",
      "}"
     ]
    }
   ],
   "source": [
    "!cat basic_lstat.c\n",
    "!gcc basic_lstat.c -o basic_lstat.out"
   ]
  },
  {
   "cell_type": "code",
   "execution_count": 177,
   "id": "922e3c84",
   "metadata": {},
   "outputs": [
    {
     "name": "stdout",
     "output_type": "stream",
     "text": [
      "is regular: no     is directory: no     is symbolic link: yes\n",
      "is regular: no     is directory: no     is symbolic link: yes\n"
     ]
    }
   ],
   "source": [
    "!./basic_lstat.out /tmp/caos/sample_file_symlink.txt\n",
    "!./basic_lstat.out /tmp/caos2.0symlink"
   ]
  },
  {
   "cell_type": "markdown",
   "id": "8f8a6318",
   "metadata": {},
   "source": [
    "Работает!"
   ]
  },
  {
   "cell_type": "markdown",
   "id": "ea4b41c3",
   "metadata": {},
   "source": [
    "Попробуем через `stat` извлечь времена модификации и доступа к файлам. Для разнообразия будем использовать `fstat`, который принимает не путь к файлу, а файловый дескриптор"
   ]
  },
  {
   "cell_type": "code",
   "execution_count": 180,
   "id": "f5b447ca",
   "metadata": {},
   "outputs": [
    {
     "name": "stdout",
     "output_type": "stream",
     "text": [
      "#include <sys/types.h>\n",
      "#include <sys/stat.h>\n",
      "#include <fcntl.h>\n",
      "#include <unistd.h>\n",
      "#include <stdio.h>\n",
      "#include <assert.h>\n",
      "#include <time.h>\n",
      "\n",
      "int main(int argc, char *argv[]) {\n",
      "    struct stat s;\n",
      "    fstat(0, &s); \n",
      "    \n",
      "    printf(\"update time: %s\", asctime(gmtime(&s.st_mtimespec.tv_sec))); // '\\n' есть в строке генерируемой asctime\n",
      "    printf(\"access time: %s\", asctime(gmtime(&s.st_atimespec.tv_sec)));\n",
      "\n",
      "    return 0;\n",
      "}"
     ]
    }
   ],
   "source": [
    "!cat access_time.c\n",
    "!gcc access_time.c -o access_time.out"
   ]
  },
  {
   "cell_type": "code",
   "execution_count": 184,
   "id": "d6328275",
   "metadata": {},
   "outputs": [
    {
     "name": "stdout",
     "output_type": "stream",
     "text": [
      "update time: Sat Sep 20 06:01:48 2025\n",
      "access time: Sat Sep 20 11:56:03 2025\n"
     ]
    }
   ],
   "source": [
    "!./access_time.out < ../sem02-data-encoding/bool_is_1_bit.jpg # ассоциируем этот файл с 0-ым дескриптором (stdin)"
   ]
  },
  {
   "cell_type": "markdown",
   "id": "f3e0f4cc",
   "metadata": {},
   "source": [
    "`stat` может быть не подходить для работы с большими файлами из-за переполнения `int32`. На такие случаи есть `stat64`."
   ]
  },
  {
   "cell_type": "markdown",
   "id": "75bf5253",
   "metadata": {},
   "source": [
    "### Работа с директориями"
   ]
  },
  {
   "cell_type": "markdown",
   "id": "ae45d9b7",
   "metadata": {},
   "source": [
    "Для работы с директориями есть функции `opendir`, `readir`, `mkdir` и другие"
   ]
  },
  {
   "cell_type": "code",
   "execution_count": 185,
   "id": "6290c873",
   "metadata": {},
   "outputs": [
    {
     "name": "stdout",
     "output_type": "stream",
     "text": [
      "#include <sys/types.h>\n",
      "#include <sys/stat.h>\n",
      "#include <fcntl.h>\n",
      "#include <unistd.h>\n",
      "#include <stdio.h>\n",
      "#include <assert.h>\n",
      "#include <dirent.h>\n",
      "\n",
      "int main(int argc, char** argv) {\n",
      "    assert(argc > 1);\n",
      "\n",
      "    DIR *dir;\n",
      "    struct dirent *ent;\n",
      "    if ((dir = opendir(argv[1])) != NULL) {\n",
      "        while ((ent = readdir(dir)) != NULL) {\n",
      "            printf(\"%s\\n\", ent->d_name);\n",
      "        }\n",
      "        closedir(dir);\n",
      "    } else {\n",
      "        printf(\"Cannot open directory\\n\");\n",
      "        return 1;\n",
      "    }\n",
      "}\n"
     ]
    }
   ],
   "source": [
    "!cat my_ls.c\n",
    "!gcc my_ls.c -o my_ls.out"
   ]
  },
  {
   "cell_type": "code",
   "execution_count": 188,
   "id": "f63e5346",
   "metadata": {},
   "outputs": [
    {
     "name": "stdout",
     "output_type": "stream",
     "text": [
      ".\n",
      "..\n",
      "sample_file.txt\n",
      "sample_file_symlink.txt\n",
      "other_sample_file.txt\n",
      "sample_file_hard.txt\n"
     ]
    }
   ],
   "source": [
    "!./my_ls.out /tmp/caos"
   ]
  },
  {
   "cell_type": "markdown",
   "id": "20ed126a",
   "metadata": {},
   "source": [
    "Также работать с директориями можно и с помощью `read` и флага `O_DIRECTORY`. Будет получен файловый дескриптор, с которым можно будет работать.\n",
    "\n",
    "> Что будет, если вызвать `read` по этому файловому дескриптору?"
   ]
  },
  {
   "cell_type": "markdown",
   "id": "c367dad8",
   "metadata": {},
   "source": [
    "## FUSE"
   ]
  },
  {
   "cell_type": "markdown",
   "id": "0c602aae",
   "metadata": {},
   "source": [
    "[FUSE на вики](https://en.wikipedia.org/wiki/Filesystem_in_Userspace)\n",
    "\n",
    "![FUSE](https://upload.wikimedia.org/wikipedia/commons/thumb/0/08/FUSE_structure.svg/490px-FUSE_structure.svg.png)\n"
   ]
  },
  {
   "cell_type": "markdown",
   "id": "43d5f1bc",
   "metadata": {},
   "source": [
    "`FUSE` - file system in user space. Возьмем `json` файл и примонтируем его в виде файловой системы."
   ]
  },
  {
   "cell_type": "code",
   "execution_count": 193,
   "id": "b2770927",
   "metadata": {},
   "outputs": [],
   "source": [
    "!rm -r /tmp/json_mount\n",
    "!mkdir /tmp/json_mount"
   ]
  },
  {
   "cell_type": "code",
   "execution_count": 194,
   "id": "606d6018",
   "metadata": {},
   "outputs": [
    {
     "name": "stdout",
     "output_type": "stream",
     "text": [
      "#!/usr/bin/env python3\n",
      "\n",
      "import os\n",
      "import sys\n",
      "import json\n",
      "import errno\n",
      "from fuse import FUSE, FuseOSError, Operations\n",
      "\n",
      "class JsonFs(Operations):\n",
      "    def __init__(self, json_data):\n",
      "        self.json_data = json_data\n",
      "        self.files = {}\n",
      "        self.dirs = {'/': []}\n",
      "        self._build_tree('/', json_data)\n",
      "\n",
      "    def _build_tree(self, path, data):\n",
      "        if isinstance(data, dict):\n",
      "            self.dirs[path] = list(data.keys())\n",
      "            for key, value in data.items():\n",
      "                new_path = os.path.join(path, key)\n",
      "                if isinstance(value, (dict, list)):\n",
      "                    self.dirs[new_path] = []\n",
      "                    self._build_tree(new_path, value)\n",
      "                else:\n",
      "                    self.files[new_path] = str(value).encode('utf-8')\n",
      "        elif isinstance(data, list):\n",
      "            self.dirs[path] = [str(i) for i in range(len(data))]\n",
      "            for i, item in enumerate(data):\n",
      "                new_path = os.path.join(path, str(i))\n",
      "                if isinstance(item, (dict, list)):\n",
      "                    self.dirs[new_path] = []\n",
      "                    self._build_tree(new_path, item)\n",
      "                else:\n",
      "                    self.files[new_path] = str(item).encode('utf-8')\n",
      "\n",
      "    def getattr(self, path, fh=None):\n",
      "        if path in self.files:\n",
      "            return {\n",
      "                'st_mode': 0o100644 | 0o444,  # -r--r--r--\n",
      "                'st_nlink': 1,\n",
      "                'st_size': len(self.files[path])\n",
      "            }\n",
      "        elif path in self.dirs:\n",
      "            return {\n",
      "                'st_mode': 0o040755 | 0o555,  # dr-xr-xr-x\n",
      "                'st_nlink': 2\n",
      "            }\n",
      "        else:\n",
      "            raise FuseOSError(errno.ENOENT)\n",
      "\n",
      "    def readdir(self, path, fh):\n",
      "        return ['.', '..'] + self.dirs.get(path, [])\n",
      "\n",
      "    def read(self, path, size, offset, fh):\n",
      "        if path not in self.files:\n",
      "            raise FuseOSError(errno.ENOENT)\n",
      "        content = self.files[path]\n",
      "        if offset > len(content):\n",
      "            return b''\n",
      "        return content[offset:offset + size]\n",
      "\n",
      "def main():\n",
      "    if len(sys.argv) != 3:\n",
      "        print(f\"Usage: {sys.argv[0]} <json_file> <mount_point>\")\n",
      "        sys.exit(1)\n",
      "\n",
      "    json_file = sys.argv[1]\n",
      "    mount_point = sys.argv[2]\n",
      "\n",
      "    if not os.path.isfile(json_file):\n",
      "        print(f\"Error: JSON file '{json_file}' not found\")\n",
      "        sys.exit(1)\n",
      "\n",
      "    if not os.path.isdir(mount_point):\n",
      "        print(f\"Error: Mount point '{mount_point}' not found\")\n",
      "        sys.exit(1)\n",
      "\n",
      "    with open(json_file, 'r') as f:\n",
      "        try:\n",
      "            json_data = json.load(f)\n",
      "        except json.JSONDecodeError as e:\n",
      "            print(f\"Error parsing JSON: {e}\")\n",
      "            sys.exit(1)\n",
      "\n",
      "    fuse = FUSE(JsonFs(json_data), mount_point, foreground=True, ro=True)\n",
      "\n",
      "if __name__ == '__main__':\n",
      "    main()"
     ]
    }
   ],
   "source": [
    "!cat fuse/fuse_json.py"
   ]
  },
  {
   "cell_type": "code",
   "execution_count": 196,
   "id": "dfa2acb6",
   "metadata": {},
   "outputs": [
    {
     "name": "stdout",
     "output_type": "stream",
     "text": [
      "{\n",
      "    \"users\": [\n",
      "        {\"name\": \"Alice\", \"age\": 30},\n",
      "        {\"name\": \"Bob\", \"age\": 25}\n",
      "    ],\n",
      "    \"settings\": {\n",
      "        \"debug\": true,\n",
      "        \"level\": \"info\"\n",
      "    }\n",
      "}"
     ]
    }
   ],
   "source": [
    "!cat fuse/example.json"
   ]
  },
  {
   "cell_type": "code",
   "execution_count": 199,
   "id": "c1502521",
   "metadata": {},
   "outputs": [
    {
     "name": "stdout",
     "output_type": "stream",
     "text": [
      "Traceback (most recent call last):\n",
      "  File \u001b[35m\"/Users/k.afentev/CAOS/caos-2025/sem03-lowlevel-io-fs/fuse/fuse_json.py\"\u001b[0m, line \u001b[35m7\u001b[0m, in \u001b[35m<module>\u001b[0m\n",
      "    from fuse import FUSE, FuseOSError, Operations\n",
      "\u001b[1;35mModuleNotFoundError\u001b[0m: \u001b[35mNo module named 'fuse'\u001b[0m\n"
     ]
    }
   ],
   "source": [
    "!python3 fuse/fuse_json.py fuse/example.json /tmp/json_mount"
   ]
  },
  {
   "cell_type": "code",
   "execution_count": 200,
   "id": "5cdde7af",
   "metadata": {},
   "outputs": [
    {
     "name": "stdout",
     "output_type": "stream",
     "text": [
      "zsh:1: command not found: tree\n"
     ]
    }
   ],
   "source": [
    "!tree /tmp/json_mount/ "
   ]
  },
  {
   "cell_type": "markdown",
   "id": "915eb8bb",
   "metadata": {},
   "source": [
    "```bash\n",
    ".\n",
    "├── settings\n",
    "│   ├── debug\n",
    "│   └── level\n",
    "└── users\n",
    "    ├── 0\n",
    "    │   ├── age\n",
    "    │   └── name\n",
    "    └── 1\n",
    "        ├── age\n",
    "        └── name\n",
    "\n",
    "5 directories, 6 files\n",
    "```"
   ]
  },
  {
   "cell_type": "markdown",
   "id": "6ab8e81c",
   "metadata": {},
   "source": [
    "*Замечание*: на самом деле `open`, `write`, `stat` и т. д. в том виде, в котором мы их рассматривали сегодня, не являются сисколами сами по себе. Это обертки, написанные на С, над настоящими сисколами. Мы еще вернемся к этой теме на последующих семинарах"
   ]
  }
 ],
 "metadata": {
  "kernelspec": {
   "display_name": ".venv",
   "language": "python",
   "name": "python3"
  },
  "language_info": {
   "codemirror_mode": {
    "name": "ipython",
    "version": 3
   },
   "file_extension": ".py",
   "mimetype": "text/x-python",
   "name": "python",
   "nbconvert_exporter": "python",
   "pygments_lexer": "ipython3",
   "version": "3.13.7"
  }
 },
 "nbformat": 4,
 "nbformat_minor": 5
}
